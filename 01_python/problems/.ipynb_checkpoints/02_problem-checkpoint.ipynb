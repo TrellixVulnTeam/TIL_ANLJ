{
 "cells": [
  {
   "cell_type": "markdown",
   "metadata": {},
   "source": [
    "# 과일 개수 골라내기\n",
    "\n",
    "> 장바구니에 아래와 같은 과일이 들어있고 과일 판별 리스트가 있습니다.\n",
    "\n",
    "```python\n",
    "basket_items = {'apples': 4, 'oranges': 19, 'kites': 3, 'sandwiches': 8}\n",
    "\n",
    "fruits = ['apples', 'oranges', 'pears', 'peaches', 'grapes', 'bananas']\n",
    "\n",
    "```\n",
    "> 현재 장바구니에는 과일이 몇개이고 과일이 아닌 것은 몇개인지 출력하시오.\n",
    "---\n",
    "```\n",
    "예시 출력)\n",
    "과일은 23개이고, 11개는 과일이 아닙니다..\n",
    "```"
   ]
  },
  {
   "cell_type": "code",
   "execution_count": 2,
   "metadata": {},
   "outputs": [
    {
     "name": "stdout",
     "output_type": "stream",
     "text": [
      "과일은 23개이고, 11개는 과일이 아닙니다.\n"
     ]
    }
   ],
   "source": [
    "basket_items = {'apples': 4, 'oranges': 19, 'kites': 3, 'sandwiches': 8}\n",
    "fruits = ['apples', 'oranges', 'pears', 'peaches', 'grapes', 'bananas']\n",
    "# 아래에 코드를 작성하세요.\n",
    "# dict count가 포인트 > 딕셔너리에서 키와 값을 모두 가져와서, 키가 과일 리스트에 있으면 특정 카운트에 그 키의 값을 계속해서 더한다.\n",
    "# 반대로 키가 과일 리스트에 없으면, 다른 카운트에 그 키의 값을 계속해서 더한다.\n",
    "\n",
    "fruit_count = 0\n",
    "not_fruit_count = 0\n",
    "\n",
    "for fruit, count in basket_items.items():\n",
    "    if fruit in fruits:\n",
    "        fruit_count += count\n",
    "    else:\n",
    "        not_fruit_count += count\n",
    "print(f'과일은 {fruit_count}개이고, {not_fruit_count}개는 과일이 아닙니다.')        "
   ]
  },
  {
   "cell_type": "markdown",
   "metadata": {},
   "source": [
    "# 영어 이름 출력하기 \n",
    "\n",
    "> 영어 이름은 가운데 이름을 가지고 있는 경우가 있습니다.\n",
    ">\n",
    "> 가운데 이름은 대문자로 축약해서 나타내는 코드를 작성해보세요.\n",
    "\n",
    "---\n",
    "```\n",
    "예시 입력)\n",
    "Alice Betty Catherine Davis\n",
    "```\n",
    "```\n",
    "예시 출력)\n",
    "Alice B. C. Davis\n",
    "```"
   ]
  },
  {
   "cell_type": "code",
   "execution_count": 3,
   "metadata": {},
   "outputs": [
    {
     "name": "stdout",
     "output_type": "stream",
     "text": [
      "이름을 입력하세요: Alice Betty Catherine Davis\n",
      "C. \n"
     ]
    }
   ],
   "source": [
    "# 아래에 코드를 작성하세요.\n",
    "# 1. 이름을 받는다.\n",
    "name = input('이름을 입력하세요: ')\n",
    "names = name.split()          # split: 'lee seung hyun' > ['lee', 'seung', 'hyun']\n",
    "# 반복문을 통해 처음과 끝 요소를 제외한 나머지 요소들을 '대문자 + .' 으로 변경한다.\n",
    "for i in range(1, len(names)-1):           # 처음과 끝을 제외하고 for 문이 동작\n",
    "    names[i] = names[i][0].upper() + '. '\n",
    "# print(names[i]) \n",
    "\n",
    "# # 리스트를 문자열로 바꾼다. (.join())\n",
    "# print(' '.join(names))\n"
   ]
  },
  {
   "cell_type": "markdown",
   "metadata": {},
   "source": [
    "# 구구단 출력하기\n",
    "> 2단부터 9단까지 반복문을 사용하여 구구단을 출력하세요.\n",
    "---\n",
    "```\n",
    "예시 출력)\n",
    "------- [2 단] -------\n",
    "2 X 1 = 2\n",
    "2 X 2 = 4\n",
    "2 X 3 = 6\n",
    "2 X 4 = 8\n",
    "2 X 5 = 10\n",
    "2 X 6 = 12\n",
    "2 X 7 = 14\n",
    "2 X 8 = 16\n",
    "2 X 9 = 18\n",
    "\n",
    "------- [3 단] -------\n",
    "...\n",
    "```"
   ]
  },
  {
   "cell_type": "code",
   "execution_count": 9,
   "metadata": {},
   "outputs": [
    {
     "name": "stdout",
     "output_type": "stream",
     "text": [
      "----- 2단 -----\n",
      "2 X 1 = 2*1\n",
      "2 X 2 = 2*2\n",
      "2 X 3 = 2*3\n",
      "2 X 4 = 2*4\n",
      "2 X 5 = 2*5\n",
      "2 X 6 = 2*6\n",
      "2 X 7 = 2*7\n",
      "2 X 8 = 2*8\n",
      "2 X 9 = 2*9\n",
      "----- 3단 -----\n",
      "3 X 1 = 3*1\n",
      "3 X 2 = 3*2\n",
      "3 X 3 = 3*3\n",
      "3 X 4 = 3*4\n",
      "3 X 5 = 3*5\n",
      "3 X 6 = 3*6\n",
      "3 X 7 = 3*7\n",
      "3 X 8 = 3*8\n",
      "3 X 9 = 3*9\n",
      "----- 4단 -----\n",
      "4 X 1 = 4*1\n",
      "4 X 2 = 4*2\n",
      "4 X 3 = 4*3\n",
      "4 X 4 = 4*4\n",
      "4 X 5 = 4*5\n",
      "4 X 6 = 4*6\n",
      "4 X 7 = 4*7\n",
      "4 X 8 = 4*8\n",
      "4 X 9 = 4*9\n",
      "----- 5단 -----\n",
      "5 X 1 = 5*1\n",
      "5 X 2 = 5*2\n",
      "5 X 3 = 5*3\n",
      "5 X 4 = 5*4\n",
      "5 X 5 = 5*5\n",
      "5 X 6 = 5*6\n",
      "5 X 7 = 5*7\n",
      "5 X 8 = 5*8\n",
      "5 X 9 = 5*9\n",
      "----- 6단 -----\n",
      "6 X 1 = 6*1\n",
      "6 X 2 = 6*2\n",
      "6 X 3 = 6*3\n",
      "6 X 4 = 6*4\n",
      "6 X 5 = 6*5\n",
      "6 X 6 = 6*6\n",
      "6 X 7 = 6*7\n",
      "6 X 8 = 6*8\n",
      "6 X 9 = 6*9\n",
      "----- 7단 -----\n",
      "7 X 1 = 7*1\n",
      "7 X 2 = 7*2\n",
      "7 X 3 = 7*3\n",
      "7 X 4 = 7*4\n",
      "7 X 5 = 7*5\n",
      "7 X 6 = 7*6\n",
      "7 X 7 = 7*7\n",
      "7 X 8 = 7*8\n",
      "7 X 9 = 7*9\n",
      "----- 8단 -----\n",
      "8 X 1 = 8*1\n",
      "8 X 2 = 8*2\n",
      "8 X 3 = 8*3\n",
      "8 X 4 = 8*4\n",
      "8 X 5 = 8*5\n",
      "8 X 6 = 8*6\n",
      "8 X 7 = 8*7\n",
      "8 X 8 = 8*8\n",
      "8 X 9 = 8*9\n",
      "----- 9단 -----\n",
      "9 X 1 = 9*1\n",
      "9 X 2 = 9*2\n",
      "9 X 3 = 9*3\n",
      "9 X 4 = 9*4\n",
      "9 X 5 = 9*5\n",
      "9 X 6 = 9*6\n",
      "9 X 7 = 9*7\n",
      "9 X 8 = 9*8\n",
      "9 X 9 = 9*9\n"
     ]
    }
   ],
   "source": [
    "# 아래에 코드를 작성하세요.\n",
    "# 첫 반복문의 2~9까지 반복\n",
    "# 둘째 반복문은 1~9까지 반복\n",
    "for i in range(2, 10):\n",
    "    print(f'----- {i}단 -----')\n",
    "    for j in range(1, 10):\n",
    "        print(f'{i} X {j} = {i}*{j}')\n"
   ]
  },
  {
   "cell_type": "markdown",
   "metadata": {},
   "source": [
    "# 달력 출력하기\n",
    "\n",
    "> 1월 1일 월요일부터 12월 31일까지 달력을 출력하세요.\n",
    "\n",
    "---\n",
    "```\n",
    "예시 출력)\n",
    "         1 월\n",
    "Mo Tu We Th Fr Sa Su \n",
    " 1  2  3  4  5  6  7 \n",
    " 8  9 10 11 12 13 14 \n",
    "15 16 17 18 19 20 21 \n",
    "22 23 24 25 26 27 28 \n",
    "29 30 31 \n",
    "         2 월\n",
    "Mo Tu We Th Fr Sa Su \n",
    " 1  2  3  4  5  6  7 \n",
    " 8  9 10 11 12 13 14 \n",
    "15 16 17 18 19 20 21 \n",
    "22 23 24 25 26 27 28 \n",
    "\n",
    "         3 월\n",
    "Mo Tu We Th Fr Sa Su \n",
    " 1  2  3  4  5  6  7 \n",
    " 8  9 10 11 12 13 14 \n",
    "15 16 17 18 19 20 21 \n",
    "22 23 24 25 26 27 28 \n",
    "29 30 31\n",
    "...\n",
    "```"
   ]
  },
  {
   "cell_type": "code",
   "execution_count": 1,
   "metadata": {},
   "outputs": [
    {
     "ename": "AttributeError",
     "evalue": "'dict' object has no attribute 'item'",
     "output_type": "error",
     "traceback": [
      "\u001b[1;31m---------------------------------------------------------------------------\u001b[0m",
      "\u001b[1;31mAttributeError\u001b[0m                            Traceback (most recent call last)",
      "\u001b[1;32m<ipython-input-1-1f86de1d4891>\u001b[0m in \u001b[0;36m<module>\u001b[1;34m\u001b[0m\n\u001b[0;32m      7\u001b[0m \u001b[1;31m# 딕셔너리의 키 값을 반복문을 통해 이용한다.\u001b[0m\u001b[1;33m\u001b[0m\u001b[1;33m\u001b[0m\u001b[1;33m\u001b[0m\u001b[0m\n\u001b[0;32m      8\u001b[0m \u001b[1;33m\u001b[0m\u001b[0m\n\u001b[1;32m----> 9\u001b[1;33m \u001b[1;32mfor\u001b[0m \u001b[0mmonth\u001b[0m\u001b[1;33m,\u001b[0m \u001b[0mcount_day\u001b[0m \u001b[1;32min\u001b[0m \u001b[0mcalendar\u001b[0m\u001b[1;33m.\u001b[0m\u001b[0mitem\u001b[0m\u001b[1;33m(\u001b[0m\u001b[1;33m)\u001b[0m\u001b[1;33m:\u001b[0m\u001b[1;33m\u001b[0m\u001b[1;33m\u001b[0m\u001b[0m\n\u001b[0m\u001b[0;32m     10\u001b[0m     \u001b[0mcount\u001b[0m \u001b[1;33m=\u001b[0m \u001b[1;36m0\u001b[0m \u001b[1;31m# for 문안에 넣는 이유는 매 달 초기화가 필요하므로\u001b[0m\u001b[1;33m\u001b[0m\u001b[1;33m\u001b[0m\u001b[0m\n\u001b[0;32m     11\u001b[0m     \u001b[0mprint\u001b[0m\u001b[1;33m(\u001b[0m\u001b[1;34mf'{month:10} 월'\u001b[0m\u001b[1;33m)\u001b[0m                       \u001b[1;31m#:10 > 10칸의 간격을 두게함\u001b[0m\u001b[1;33m\u001b[0m\u001b[1;33m\u001b[0m\u001b[0m\n",
      "\u001b[1;31mAttributeError\u001b[0m: 'dict' object has no attribute 'item'"
     ]
    }
   ],
   "source": [
    "calendar = { \n",
    "        1: 31, 2: 28, 3: 31, 4: 30, 5: 31,6: 30, \n",
    "        7: 31, 8: 31, 9: 30, 10: 31, 11: 30, 12: 31 \n",
    "} \n",
    "weeks = ['Mo', 'Tu', 'We', 'Th', 'Fr', 'Sa', 'Su'] \n",
    "# 아래에 코드를 작성하세요.\n",
    "# 딕셔너리의 키 값을 반복문을 통해 이용한다.\n",
    "\n",
    "for month, count_day in calendar.item():\n",
    "    count = 0 # for 문안에 넣는 이유는 매 달 초기화가 필요하므로\n",
    "    print(f'{month:10} 월')                       #:10 > 10칸의 간격을 두게함\n",
    "    for day in weeks:\n",
    "        print(f'{day}', end=' ')\n",
    "    print()\n",
    "    \n",
    "    for i in range(1, count_day+1):\n",
    "        print(f'{i:2}', end=' ')\n",
    "        count += 1\n",
    "        if count == 7:\n",
    "            print()\n",
    "            count = 0\n",
    "    print()"
   ]
  },
  {
   "cell_type": "markdown",
   "metadata": {},
   "source": [
    "# 개인정보보호\n",
    "> 사용자의 핸드폰번호를 입력 받으려고한다. 개인정보 보호를 위하여 뒷자리 4자리를 제외하고는 마스킹 처리를 하려고한다.\n",
    ">\n",
    "> 핸드폰번호는 010으로 시작해야하고 11자리여야한다. 핸드폰번호를 입력하지 않았다면 \"핸드폰번호를 입력하세요\"를 출력한다\n",
    "\n",
    "```\n",
    "예시 입력)\n",
    "01012341234\n",
    "예시 출력)\n",
    "*******1234\n",
    "```"
   ]
  },
  {
   "cell_type": "code",
   "execution_count": 5,
   "metadata": {},
   "outputs": [
    {
     "name": "stdout",
     "output_type": "stream",
     "text": [
      "01040480343\n",
      "*******0343\n"
     ]
    }
   ],
   "source": [
    "# 아래에 코드를 작성하세요.\n",
    "# 1\n",
    "phone = input()\n",
    "if phone[0:3] == '010' and len(phone) == 11:\n",
    "    result = '*' * 7 + phone[-4:]              #뒤에서 부터 -1 -2 -3 .. slicing 가능\n",
    "    print(result)\n",
    "else:\n",
    "    print('폰 번호를 입력해주세요.')\n"
   ]
  },
  {
   "cell_type": "code",
   "execution_count": 7,
   "metadata": {},
   "outputs": [
    {
     "name": "stdout",
     "output_type": "stream",
     "text": [
      "01040480343\n",
      "*******0343\n"
     ]
    }
   ],
   "source": [
    "# 2\n",
    "phone = input()\n",
    "if phone[0:3] == '010' and len(phone) == 11:\n",
    "    print(f'{phone[-4:]:*>11}')                       # > 오른쪽 정렬  < 왼쪽 정렬  ^ 가운데 정렬 * 빈 공간을 *으로 채운다\n",
    "    \n",
    "else:\n",
    "    print('폰 번호를 입력해주세요.')\n"
   ]
  },
  {
   "cell_type": "markdown",
   "metadata": {},
   "source": [
    "# 정중앙\n",
    "> 사용자가 입력한 문자열중 가운데 글자를 출력하라. 문자열이 짝수라면 가운데 두글자를 출력하라"
   ]
  },
  {
   "cell_type": "code",
   "execution_count": 16,
   "metadata": {},
   "outputs": [
    {
     "name": "stdout",
     "output_type": "stream",
     "text": [
      "abc\n",
      "b\n"
     ]
    }
   ],
   "source": [
    "# 아래에 코드를 작성하세요.\n",
    "\n",
    "text = input()\n",
    "num = len(text) // 2\n",
    "if len(text) % 2:\n",
    "    middle = text[num]\n",
    "else:\n",
    "    middle = text[num-1: num+1]\n",
    "print(middle)"
   ]
  },
  {
   "cell_type": "markdown",
   "metadata": {},
   "source": [
    "# 소수 찾기"
   ]
  },
  {
   "cell_type": "markdown",
   "metadata": {},
   "source": [
    "> 조건, 반복문을 응용하여 numbers 리스트의 요소들이 소수인지 아닌지 판단하는 코드를 작성하라.\n",
    "\n",
    "```python\n",
    "numbers = [26, 39, 51, 53, 57, 79, 85]\n",
    "\n",
    "# 출력 예시\n",
    "26 는 소수가 아닙니다. 2 는 26 의 인수입니다.\n",
    "39 는 소수가 아닙니다. 3 는 39 의 인수입니다.\n",
    "51 는 소수가 아닙니다. 3 는 51 의 인수입니다.\n",
    "53 는 소수입니다.\n",
    "57 는 소수가 아닙니다. 3 는 57 의 인수입니다.\n",
    "79 는 소수입니다.\n",
    "85 는 소수가 아닙니다. 5 는 85 의 인수입니다.\n",
    "```"
   ]
  },
  {
   "cell_type": "code",
   "execution_count": 1,
   "metadata": {},
   "outputs": [
    {
     "name": "stdout",
     "output_type": "stream",
     "text": [
      "26 는 소수가 아닙니다. 2 는 26 의 인수입니다.\n",
      "39 는 소수가 아닙니다. 3 는 39 의 인수입니다.\n",
      "51 는 소수가 아닙니다. 3 는 51 의 인수입니다.\n",
      "53 는 소수입니다.\n",
      "57 는 소수가 아닙니다. 3 는 57 의 인수입니다.\n",
      "79 는 소수입니다.\n",
      "85 는 소수가 아닙니다. 5 는 85 의 인수입니다.\n"
     ]
    }
   ],
   "source": [
    "numbers = [26, 39, 51, 53, 57, 79, 85]\n",
    "# 아래에 코드를 작성하세요.\n",
    "# 반복문의 else 를 사용하는 것이 포인트 !\n",
    "\n",
    "for number in numbers:\n",
    "    for x in range(2, number):\n",
    "        if number % x == 0:\n",
    "            print(f'{number} 는 소수가 아닙니다. {x} 는 {number} 의 인수입니다.')\n",
    "            break #반복문 끝낼 때 \n",
    "    \n",
    "    else:\n",
    "        print(f'{number} 는 소수입니다.')"
   ]
  }
 ],
 "metadata": {
  "kernelspec": {
   "display_name": "Python 3",
   "language": "python",
   "name": "python3"
  },
  "language_info": {
   "codemirror_mode": {
    "name": "ipython",
    "version": 3
   },
   "file_extension": ".py",
   "mimetype": "text/x-python",
   "name": "python",
   "nbconvert_exporter": "python",
   "pygments_lexer": "ipython3",
   "version": "3.7.3"
  },
  "latex_envs": {
   "LaTeX_envs_menu_present": true,
   "autoclose": false,
   "autocomplete": true,
   "bibliofile": "biblio.bib",
   "cite_by": "apalike",
   "current_citInitial": 1,
   "eqLabelWithNumbers": true,
   "eqNumInitial": 1,
   "hotkeys": {
    "equation": "Ctrl-E",
    "itemize": "Ctrl-I"
   },
   "labels_anchors": false,
   "latex_user_defs": false,
   "report_style_numbering": false,
   "user_envs_cfg": false
  },
  "toc": {
   "base_numbering": 1,
   "nav_menu": {},
   "number_sections": true,
   "sideBar": true,
   "skip_h1_title": false,
   "title_cell": "Table of Contents",
   "title_sidebar": "Contents",
   "toc_cell": false,
   "toc_position": {},
   "toc_section_display": true,
   "toc_window_display": false
  }
 },
 "nbformat": 4,
 "nbformat_minor": 2
}
