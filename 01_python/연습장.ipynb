{
 "cells": [
  {
   "cell_type": "code",
   "execution_count": null,
   "metadata": {},
   "outputs": [],
   "source": [
    "def my_max(*args):\n",
    "    result = 0\n",
    "    for idx, val in enumerate(args):\n",
    "        if idx == 0:\n",
    "            result = val\n",
    "        else:\n",
    "            if val > result:\n",
    "                result = val\n",
    "    return result\n",
    "    \n",
    "\n",
    "my_max(10, 20, 30, 50)\n",
    "\n",
    "        "
   ]
  },
  {
   "cell_type": "code",
   "execution_count": null,
   "metadata": {},
   "outputs": [],
   "source": [
    "def my_dict(**kwargs):\n",
    "    result = []\n",
    "    for key, value in kwargs.item():\n",
    "        result.append(f'{key} : {value}')\n",
    "    return ', '.join(result)\n"
   ]
  },
  {
   "cell_type": "code",
   "execution_count": null,
   "metadata": {},
   "outputs": [],
   "source": [
    "my_account = {\n",
    "    'username': '홍길동',\n",
    "    'password': '1q2w3e4r',\n",
    "    'password_confirmation': '1q2w3e4r'\n",
    "}"
   ]
  },
  {
   "cell_type": "code",
   "execution_count": null,
   "metadata": {},
   "outputs": [],
   "source": [
    "def signup(username, password, password_confirmation):\n",
    "    if len(password) >= 8:\n",
    "        if password == password_confirmation:\n",
    "                return (f' 회원가입이 완료되었습니다.')\n"
   ]
  },
  {
   "cell_type": "code",
   "execution_count": null,
   "metadata": {},
   "outputs": [],
   "source": [
    "def fib_loop(n):\n",
    "    if n < 2:\n",
    "        return n\n",
    "    else:\n",
    "        result = [0, 1]\n",
    "        for i in range(2, n+1):\n",
    "            result.append(result[i-1]) + result[i-2])\n",
    "        return result[-1]\n",
    "            "
   ]
  },
  {
   "cell_type": "code",
   "execution_count": null,
   "metadata": {},
   "outputs": [],
   "source": [
    "fib_loop(10)"
   ]
  },
  {
   "cell_type": "code",
   "execution_count": null,
   "metadata": {},
   "outputs": [],
   "source": [
    "[식 for 변수 in iterable]\n",
    "[식 for 변수 in iterable if 조건식]"
   ]
  },
  {
   "cell_type": "code",
   "execution_count": null,
   "metadata": {},
   "outputs": [],
   "source": [
    "cubic_list = [i**3 for i in range(1, 11)]\n",
    "print(cubic_list)"
   ]
  },
  {
   "cell_type": "code",
   "execution_count": null,
   "metadata": {},
   "outputs": [],
   "source": [
    "even_list = [i for i in range(1, 11) if i%2==0]\n",
    "print(even_list)"
   ]
  },
  {
   "cell_type": "code",
   "execution_count": null,
   "metadata": {},
   "outputs": [],
   "source": [
    "girls = ['jane', 'iu', 'mary']\n",
    "boys = ['justin', 'david', 'kim']\n",
    "\n",
    "pair = []\n",
    "\n",
    "for boy in boys:\n",
    "    for girl in girls:\n",
    "        pair.append((boy, girl))\n",
    "print(pair)        "
   ]
  },
  {
   "cell_type": "code",
   "execution_count": null,
   "metadata": {},
   "outputs": [],
   "source": [
    "pair_list = [(boy, girl) for boy in boys for girl in girls]\n",
    "print(pair_list)"
   ]
  },
  {
   "cell_type": "code",
   "execution_count": null,
   "metadata": {},
   "outputs": [],
   "source": [
    "result = []\n",
    "\n",
    "for x in range(1, 50):\n",
    "    for y in range(x, 50):\n",
    "        for z in range(y, 50):\n",
    "            if x**2 + y**2 == z**2:\n",
    "                result.append((x, y, z))\n",
    "print(result)\n"
   ]
  },
  {
   "cell_type": "code",
   "execution_count": null,
   "metadata": {},
   "outputs": [],
   "source": [
    "result = []\n",
    "words = 'Life is too short, you need python!'\n",
    "vowels = 'aeiou'\n",
    "for x in words:\n",
    "    if x not in vowels:\n",
    "        result.append(x)\n",
    "print(''.join(result))"
   ]
  },
  {
   "cell_type": "code",
   "execution_count": null,
   "metadata": {},
   "outputs": [],
   "source": [
    "result =[x for x in words if x not in vowels]\n",
    "print(''.join(result))"
   ]
  },
  {
   "cell_type": "code",
   "execution_count": null,
   "metadata": {},
   "outputs": [],
   "source": [
    "[식 for x in iterable]   [키: 값 for 키, 값 in 딕셔너리]"
   ]
  },
  {
   "cell_type": "code",
   "execution_count": null,
   "metadata": {},
   "outputs": [],
   "source": [
    "cubic = {x: x**3 for x in range(1, 9) }\n",
    "print(cubic)"
   ]
  },
  {
   "cell_type": "code",
   "execution_count": null,
   "metadata": {},
   "outputs": [],
   "source": [
    "result = {}\n",
    "dusts = {'서울': 72, '대전': 82, '구미': 29, '광주': 45, '중국': 200}\n",
    "\n",
    "for key, value in dusts.items():\n",
    "    if value > 80:\n",
    "        result[key] = value\n",
    "print(result)"
   ]
  },
  {
   "cell_type": "code",
   "execution_count": null,
   "metadata": {},
   "outputs": [],
   "source": [
    "result = {key: value for key, value in dusts.items() if value > 80}\n",
    "print(result)"
   ]
  },
  {
   "cell_type": "code",
   "execution_count": null,
   "metadata": {},
   "outputs": [],
   "source": [
    "result = {key: value for key, value in dusts.items() if value > 80}\n",
    "print(result)"
   ]
  },
  {
   "cell_type": "code",
   "execution_count": null,
   "metadata": {},
   "outputs": [],
   "source": [
    "result = {key: '매우나쁨' if value >150 else '나쁨' if value >80 else '보통' if value >30 else '좋음' for key, value in dusts.items()}"
   ]
  },
  {
   "cell_type": "code",
   "execution_count": null,
   "metadata": {},
   "outputs": [],
   "source": [
    "def result(a, b):\n",
    "    numbers = input('2개의 숫자를 입력하세요: ')\n",
    "    if a > b:\n",
    "        return  \n",
    "    else:\n",
    "        try:\n",
    "            result = a / b\n",
    "                if a > b:\n",
    "                    \n",
    "        except ZeroDivisionError as err:\n",
    "            print(f'{err} 오류가 발생하였습니다.')\n",
    "        else:\n",
    "            return result"
   ]
  },
  {
   "cell_type": "code",
   "execution_count": null,
   "metadata": {},
   "outputs": [],
   "source": [
    "# calc.py\n",
    "\n",
    "def add(a, b):\n",
    "    return a + b\n",
    "    \n",
    "def sub(a, b):\n",
    "    return a - b\n",
    "    \n",
    "def mul(a, b):\n",
    "    return a * b\n",
    "    \n",
    "def div(a, b):\n",
    "    try:\n",
    "        return a / b\n",
    "    except ZeroDivisionError:\n",
    "        return '0으로는 나눌 수 없습니다.'\n",
    "    "
   ]
  },
  {
   "cell_type": "code",
   "execution_count": null,
   "metadata": {},
   "outputs": [],
   "source": [
    "import calc\n",
    "\n",
    "print(calc.add(2, 3))\n",
    "print(calc.div(2, 0))  # 0으로는 나눌 수 없습니다."
   ]
  },
  {
   "cell_type": "code",
   "execution_count": null,
   "metadata": {},
   "outputs": [],
   "source": [
    "student = {'python': 80, 'algorithm': 99, 'django': 89, 'flask': 83}\n",
    "\n",
    "\n",
    "zero_score = 0\n",
    "for score in student.values():\n",
    "    score = zero_score + score\n",
    "        \n",
    "print(score)"
   ]
  },
  {
   "cell_type": "code",
   "execution_count": null,
   "metadata": {},
   "outputs": [],
   "source": [
    "class Animal:\n",
    "    def __init__(self, name=''):\n",
    "        self.name = name\n",
    "    \n",
    "    def walk(self):\n",
    "        print(f'{self.name}! 걷는다!')\n",
    "        \n",
    "    def eat(self):\n",
    "        print(f'{self.name}! 먹는다!')\n",
    "        \n",
    "class Dog(Animal):\n",
    "   \n",
    "    def run(self):\n",
    "        print(f'{self.name}! 달린다!')\n",
    "    \n",
    "    def walk(self):\n",
    "        print(f'{self.name}! 달린다!')\n",
    "\n",
    "class Bird(Animal):\n",
    "   \n",
    "    def fly(self):\n",
    "        print(f'{self.name}! 푸드덕!')"
   ]
  },
  {
   "cell_type": "code",
   "execution_count": null,
   "metadata": {},
   "outputs": [],
   "source": [
    "dog = Dog('멍멍이')\n",
    "dog.walk()\n",
    "dog.run()"
   ]
  },
  {
   "cell_type": "code",
   "execution_count": null,
   "metadata": {},
   "outputs": [],
   "source": [
    "bird = Bird('구구')\n",
    "bird.walk()\n",
    "bird.eat()\n",
    "bird.fly()"
   ]
  },
  {
   "cell_type": "code",
   "execution_count": null,
   "metadata": {},
   "outputs": [],
   "source": [
    "from flask import Flask\n",
    "app = Flask(__name__)\n",
    "\n",
    "@app.route('/dictionary<string:word>')\n",
    "def dictionary(word):\n",
    "    word_book = {\n",
    "        'apple' : '사과'\n",
    "        'banana': '바나나'\n",
    "    }\n",
    "    if word in word_book:\n",
    "        result = f'{word}는 {word_book.get(word)}'\n",
    "    else:\n",
    "        result = f'{word}는 나만의 단어장에 없는 단어입니다!'\n",
    "    return result"
   ]
  },
  {
   "cell_type": "code",
   "execution_count": null,
   "metadata": {},
   "outputs": [],
   "source": [
    "student = {'python': 80, 'algorithm': 99, 'django': 89, 'flask': 83}"
   ]
  },
  {
   "cell_type": "code",
   "execution_count": null,
   "metadata": {},
   "outputs": [],
   "source": [
    "student['python']"
   ]
  },
  {
   "cell_type": "code",
   "execution_count": null,
   "metadata": {},
   "outputs": [],
   "source": [
    "{student.get('python')}"
   ]
  },
  {
   "cell_type": "code",
   "execution_count": null,
   "metadata": {},
   "outputs": [],
   "source": [
    "result = 0\n",
    "for value in student.values():\n",
    "    result += value\n",
    "div = result / len(student)\n",
    "    \n",
    "print(div)\n",
    "\n",
    "\n",
    "\n"
   ]
  },
  {
   "cell_type": "code",
   "execution_count": null,
   "metadata": {},
   "outputs": [],
   "source": [
    "help(sum)"
   ]
  },
  {
   "cell_type": "code",
   "execution_count": null,
   "metadata": {},
   "outputs": [],
   "source": [
    "blood_types = ['A', 'B', 'A', 'O', 'AB', 'AB', 'O', 'A', 'B', 'O', 'B', 'AB']"
   ]
  },
  {
   "cell_type": "code",
   "execution_count": null,
   "metadata": {},
   "outputs": [],
   "source": [
    "a = 0\n",
    "b = 0\n",
    "ab = 0\n",
    "o = 0\n",
    "result = {}\n",
    "\n",
    "for i in blood_types:\n",
    "    if i == 'A':\n",
    "        a += 1\n",
    "        result['A'] = a\n",
    "    elif i == 'B':\n",
    "        b += 1\n",
    "        result['B'] = b\n",
    "    elif i == 'AB':\n",
    "        ab += 1\n",
    "        result['AB'] = ab\n",
    "    else:\n",
    "        o += 1\n",
    "        result['O'] = o\n",
    "\n",
    "print(result) "
   ]
  },
  {
   "cell_type": "code",
   "execution_count": null,
   "metadata": {},
   "outputs": [],
   "source": [
    "result = {}\n",
    "for blood in blood_types:\n",
    "    num = blood_types.count(blood)\n",
    "    result[blood] = num\n",
    "print(result)"
   ]
  },
  {
   "cell_type": "code",
   "execution_count": null,
   "metadata": {},
   "outputs": [],
   "source": [
    "students = {'python': 80, 'algorithm': 99, 'django': 89, 'flask': 83}"
   ]
  },
  {
   "cell_type": "code",
   "execution_count": null,
   "metadata": {},
   "outputs": [],
   "source": [
    "result = 0\n",
    "for score in students.values():\n",
    "    result = result + score\n",
    "div = result / len(students)\n",
    "zero =print(div)"
   ]
  },
  {
   "cell_type": "code",
   "execution_count": null,
   "metadata": {},
   "outputs": [],
   "source": [
    "students = {'python': 80, 'algorithm': 99, 'django': 89, 'flask': 83}"
   ]
  },
  {
   "cell_type": "code",
   "execution_count": null,
   "metadata": {},
   "outputs": [],
   "source": [
    "result = 0\n",
    "for student in students.values():\n",
    "    result = result + student\n",
    "div = result / len(students)\n",
    "print(div)"
   ]
  },
  {
   "cell_type": "code",
   "execution_count": null,
   "metadata": {},
   "outputs": [],
   "source": [
    "book_title =  ['great', 'expectations','the', 'adventures', 'of', 'sherlock','holmes','the','great','gasby','hamlet','adventures','of','huckleberry','fin']"
   ]
  },
  {
   "cell_type": "code",
   "execution_count": null,
   "metadata": {},
   "outputs": [],
   "source": [
    "result = {}\n",
    "for book in book_title:\n",
    "    num = book_title.count(book)\n",
    "    result[book] = num\n",
    "print(result)"
   ]
  },
  {
   "cell_type": "code",
   "execution_count": null,
   "metadata": {},
   "outputs": [],
   "source": [
    "result = {}\n",
    "for book in book_title:\n",
    "    if book not in result:\n",
    "        result[book] = 1\n",
    "    else:\n",
    "        result[book] += 1\n",
    "print(result)"
   ]
  },
  {
   "cell_type": "code",
   "execution_count": null,
   "metadata": {},
   "outputs": [],
   "source": [
    "headlines = [\n",
    "    \"Local Bear Eaten by Man\",\n",
    "    \"Legislature Announces New Laws\",\n",
    "    \"Peasant Discovers Violence Inherent in System\",\n",
    "    \"Cat Rescues Fireman Stuck in Tree\",\n",
    "    \"Brave Knight Runs Away\",\n",
    "    \"Papperbok Review: Totally Triffic\"\n",
    "]"
   ]
  },
  {
   "cell_type": "code",
   "execution_count": null,
   "metadata": {},
   "outputs": [],
   "source": [
    "news = ''\n",
    "for headline in headlines:\n",
    "    news += headline\n",
    "    if len(news) >= 130:\n",
    "        news = news[:130]\n",
    "        break\n",
    "print(news)\n",
    "print(len(news))"
   ]
  },
  {
   "cell_type": "code",
   "execution_count": null,
   "metadata": {},
   "outputs": [],
   "source": [
    "ages = [10, 23, 8, 30, 25, 31]"
   ]
  },
  {
   "cell_type": "code",
   "execution_count": null,
   "metadata": {},
   "outputs": [],
   "source": [
    "for age in ages:\n",
    "    if age >= 20:\n",
    "        print(f'{age} 살은 성인입니다.')\n",
    "    else:\n",
    "        pass"
   ]
  },
  {
   "cell_type": "code",
   "execution_count": null,
   "metadata": {},
   "outputs": [],
   "source": [
    "numbers = [1, 5, 10]"
   ]
  },
  {
   "cell_type": "code",
   "execution_count": null,
   "metadata": {},
   "outputs": [],
   "source": [
    "for number in numbers:\n",
    "    if 3 in numbers:\n",
    "        print(True)\n",
    "    else:\n",
    "        print(False)\n"
   ]
  },
  {
   "cell_type": "code",
   "execution_count": null,
   "metadata": {},
   "outputs": [],
   "source": [
    "def my_max(a, b):\n",
    "    if a > b:\n",
    "        return(f'{a}가 더 큽니다')\n",
    "    else:\n",
    "        return(f'{b}가 더 큽니다')"
   ]
  },
  {
   "cell_type": "code",
   "execution_count": null,
   "metadata": {},
   "outputs": [],
   "source": [
    "my_max(3, 8)"
   ]
  },
  {
   "cell_type": "code",
   "execution_count": null,
   "metadata": {},
   "outputs": [],
   "source": [
    "def my_list_max(a, b):\n",
    "    if sum(a) > sum(b):\n",
    "        return a\n",
    "    else:\n",
    "        return b"
   ]
  },
  {
   "cell_type": "code",
   "execution_count": null,
   "metadata": {},
   "outputs": [],
   "source": [
    "my_list_max([15, 3], [5, 9])"
   ]
  },
  {
   "cell_type": "code",
   "execution_count": null,
   "metadata": {},
   "outputs": [],
   "source": [
    "def mi_max(*args):\n",
    "    for idx, val in enumerate(args):\n",
    "        if idx == 0:\n",
    "            result = val\n",
    "        else:\n",
    "            if val > result:\n",
    "                result = val\n",
    "    print(result)"
   ]
  },
  {
   "cell_type": "code",
   "execution_count": null,
   "metadata": {},
   "outputs": [],
   "source": [
    "mi_max(10, 20, 30, 50)"
   ]
  },
  {
   "cell_type": "code",
   "execution_count": null,
   "metadata": {},
   "outputs": [],
   "source": [
    "girls = ['jane', 'iu', 'mary']\n",
    "boys = ['justin', 'david', 'kim']"
   ]
  },
  {
   "cell_type": "code",
   "execution_count": null,
   "metadata": {},
   "outputs": [],
   "source": [
    "pair = []\n",
    "for boy in boys:\n",
    "    for girl in girls:\n",
    "        pair.append((boy, girl))\n",
    "print(pair)"
   ]
  },
  {
   "cell_type": "code",
   "execution_count": null,
   "metadata": {},
   "outputs": [],
   "source": [
    "pair = []\n",
    "for boy in boys:\n",
    "    for girl in girls:\n",
    "        pair.extend((boy, girl))\n",
    "print(pair)"
   ]
  },
  {
   "cell_type": "code",
   "execution_count": null,
   "metadata": {},
   "outputs": [],
   "source": [
    "pair = [(boy, girl) for boy in boys for girl in girls]\n",
    "print(pair)"
   ]
  },
  {
   "cell_type": "code",
   "execution_count": null,
   "metadata": {},
   "outputs": [],
   "source": [
    "result = []\n",
    "for x in range(1, 50):\n",
    "    for y in range(x, 50):\n",
    "        for z in range(y, 50):\n",
    "            if x**2 + y**2 == z**2:\n",
    "                result.append((x, y, z))\n",
    "print(result)"
   ]
  },
  {
   "cell_type": "code",
   "execution_count": null,
   "metadata": {},
   "outputs": [],
   "source": [
    "results = [(x, y, z) for x in range(1, 50) for y in range(x, 50) for z in range(y, 50) if x**2 + y**2 == z**2]\n",
    "print(results)"
   ]
  },
  {
   "cell_type": "code",
   "execution_count": null,
   "metadata": {},
   "outputs": [],
   "source": [
    "words = 'Life is too short, you need python!'\n",
    "vowel = ['a', 'e', 'i', 'o', 'u']"
   ]
  },
  {
   "cell_type": "code",
   "execution_count": null,
   "metadata": {},
   "outputs": [],
   "source": [
    "result =[]\n",
    "for word in words:\n",
    "    if word not in vowel:\n",
    "        result.append(word)\n",
    "\n",
    "print(' '.join(result))"
   ]
  },
  {
   "cell_type": "code",
   "execution_count": null,
   "metadata": {},
   "outputs": [],
   "source": [
    "words = 'Life is too short, you need python!'\n",
    "vowel = 'aeiou'\n",
    "\n",
    "result=''\n",
    "for word in words:\n",
    "    if word not in vowel:\n",
    "        result += word\n",
    "print(result)"
   ]
  },
  {
   "cell_type": "code",
   "execution_count": null,
   "metadata": {},
   "outputs": [],
   "source": [
    "result = [word for word in words if word not in vowel]\n",
    "print(''.join(result))"
   ]
  },
  {
   "cell_type": "code",
   "execution_count": null,
   "metadata": {},
   "outputs": [],
   "source": [
    "dusts = {'서울': 72, '대전': 82, '구미': 29, '광주': 45, '중국': 200}"
   ]
  },
  {
   "cell_type": "code",
   "execution_count": null,
   "metadata": {},
   "outputs": [],
   "source": [
    "result = {}\n",
    "for region, num in dusts.items():\n",
    "    if num > 80:\n",
    "        result[region] = '나쁨'\n",
    "    else:\n",
    "        result[region] = '보통'\n",
    "print(result)"
   ]
  },
  {
   "cell_type": "code",
   "execution_count": null,
   "metadata": {},
   "outputs": [],
   "source": [
    "result = {region: '매우나쁨' if num > 150 else '나쁨' if num > 80 else '보통' for region, num in dusts.items()}\n",
    "print(result)"
   ]
  },
  {
   "cell_type": "code",
   "execution_count": null,
   "metadata": {},
   "outputs": [],
   "source": [
    "numbers = [1, 2, 3]\n",
    "k = map(str, numbers)\n",
    "print(''.join(k))"
   ]
  },
  {
   "cell_type": "code",
   "execution_count": null,
   "metadata": {},
   "outputs": [],
   "source": [
    "numbers = ['1', '2', '3']\n",
    "l = list(map(int, numbers))\n",
    "print(l)"
   ]
  },
  {
   "cell_type": "code",
   "execution_count": null,
   "metadata": {},
   "outputs": [],
   "source": [
    "def double(x):\n",
    "    return x*2\n",
    "\n",
    "numbers = [1, 2, 3, 4, 5, 6]\n",
    "new_numbers = list(map(double, numbers))\n",
    "print(new_numbers)"
   ]
  },
  {
   "cell_type": "code",
   "execution_count": null,
   "metadata": {},
   "outputs": [],
   "source": [
    "a = '12'\n",
    "b = '567'\n",
    "c = '8989'\n",
    "for x, y, z in zip(a, b, c):\n",
    "    print(x, y, z)"
   ]
  },
  {
   "cell_type": "code",
   "execution_count": null,
   "metadata": {},
   "outputs": [],
   "source": [
    "my_str = \"Life is too short, you need python\""
   ]
  },
  {
   "cell_type": "code",
   "execution_count": null,
   "metadata": {},
   "outputs": [],
   "source": [
    "# 1. 스트링>스트링\n",
    "\n",
    "result = ''\n",
    "vowels = 'aeiou'\n",
    "\n",
    "for word in my_str:\n",
    "    if word not in vowels:\n",
    "        result += word\n",
    "print(result)\n",
    "        "
   ]
  },
  {
   "cell_type": "code",
   "execution_count": null,
   "metadata": {},
   "outputs": [],
   "source": [
    "# 2. replace() 로 원본을 수정\n",
    "\n",
    "vowels = 'aeiou'\n",
    "\n",
    "for word in my_str:\n",
    "    if word in vowels:\n",
    "        result = my_str.replace(vowels, ' ')\n",
    "\n",
    "print(result)"
   ]
  },
  {
   "cell_type": "code",
   "execution_count": null,
   "metadata": {},
   "outputs": [],
   "source": [
    "baskets = {'apples': 4, 'oranges': 19, 'kites': 3, 'sandwiches': 8}\n",
    "\n",
    "fruits = ['apples', 'oranges', 'pears', 'peaches', 'grapes', 'bananas']"
   ]
  },
  {
   "cell_type": "code",
   "execution_count": null,
   "metadata": {},
   "outputs": [],
   "source": [
    "fruit_count = 0\n",
    "no_fruit_count = 0\n",
    "\n",
    "for key, value in baskets.items():\n",
    "    if key in fruits:\n",
    "        fruit_count += value\n",
    "    else:\n",
    "        no_fruit_count += value\n",
    "\n",
    "print(f'과일은 {fruit_count}개이고, {no_fruit_count}개는 과일이 아닙니다..')"
   ]
  },
  {
   "cell_type": "code",
   "execution_count": null,
   "metadata": {},
   "outputs": [],
   "source": [
    "name = 'Alice Betty Catherine Davis'"
   ]
  },
  {
   "cell_type": "code",
   "execution_count": null,
   "metadata": {},
   "outputs": [],
   "source": [
    "# 1. Alice + _ + _ Davis 꼴 slice"
   ]
  },
  {
   "cell_type": "code",
   "execution_count": null,
   "metadata": {},
   "outputs": [],
   "source": [
    "# print(len(name))\n",
    "\n",
    "print(name[0:7] + '. ' + name[12:13] + '. ' + name[22:])"
   ]
  },
  {
   "cell_type": "code",
   "execution_count": null,
   "metadata": {},
   "outputs": [],
   "source": [
    "# print(name.split())\n",
    "name_list = name.split()\n",
    "# print(name_list)\n",
    "for i in range(1, len(name_list)-1):\n",
    "    name_list[i] = name_list[i][0].upper()\n",
    "print(name_list[i])\n",
    "    \n"
   ]
  },
  {
   "cell_type": "code",
   "execution_count": null,
   "metadata": {},
   "outputs": [],
   "source": [
    "for i in range(2, 10):\n",
    "    print(f'-------------{i}단----------------')\n",
    "    for j in range(1, 10):\n",
    "        print(f'{i} x {j} = {i*j}')\n",
    "        "
   ]
  },
  {
   "cell_type": "code",
   "execution_count": null,
   "metadata": {},
   "outputs": [],
   "source": [
    "calendar = { \n",
    "        1: 31, 2: 28, 3: 31, 4: 30, 5: 31,6: 30, \n",
    "        7: 31, 8: 31, 9: 30, 10: 31, 11: 30, 12: 31 \n",
    "} \n",
    "weeks = ['Mo', 'Tu', 'We', 'Th', 'Fr', 'Sa', 'Su'] "
   ]
  },
  {
   "cell_type": "code",
   "execution_count": null,
   "metadata": {},
   "outputs": [],
   "source": [
    "phone = input()\n",
    "result= phone[-4:]\n",
    "print('*'*7 + result)\n"
   ]
  },
  {
   "cell_type": "code",
   "execution_count": null,
   "metadata": {},
   "outputs": [],
   "source": [
    "word = input()\n",
    "num = len(word) // 2\n",
    "if len(word) % 2:\n",
    "    middle = word[num]\n",
    "else:\n",
    "    middle = word[num-1:num+1]\n",
    "print(middle)"
   ]
  },
  {
   "cell_type": "code",
   "execution_count": null,
   "metadata": {},
   "outputs": [],
   "source": [
    "numbers = [26, 39, 51, 53, 57, 79, 85]"
   ]
  },
  {
   "cell_type": "code",
   "execution_count": null,
   "metadata": {},
   "outputs": [],
   "source": [
    "# 1과 자기자신으로 나눠지면 소수 \n",
    "numbers = [26, 39, 51, 53, 57, 79, 85]\n",
    "\n",
    "for number in numbers:\n",
    "    fox x in range(2, number):\n",
    "        if number % x == True:\n",
    "            print(f'{number} 는 소수가 아닙니다. {x} 는 {number} 의 인수입니다.')\n",
    "        "
   ]
  },
  {
   "cell_type": "code",
   "execution_count": null,
   "metadata": {},
   "outputs": [],
   "source": [
    "words = 'PyThonic'"
   ]
  },
  {
   "cell_type": "code",
   "execution_count": null,
   "metadata": {},
   "outputs": [],
   "source": [
    "lower = ''\n",
    "upper = ''\n",
    "for word in words:\n",
    "    if word.islower:\n",
    "        word += lower\n",
    "    else:\n",
    "        upper += word\n",
    "print(lower)\n",
    "# print(upper)"
   ]
  },
  {
   "cell_type": "code",
   "execution_count": null,
   "metadata": {},
   "outputs": [],
   "source": [
    "words = 'PyThonic'\n",
    "lower = []\n",
    "upper = []\n",
    "for word in words:\n",
    "    if word.islower:\n",
    "        lower.append(word)\n",
    "print(upper)\n",
    "#     else:\n",
    "#         upper.append(word)\n",
    "# print(lower)\n",
    "# print(upper)\n",
    "# sorted_words = lower + upper\n",
    "# print(''.join(sorted_words))"
   ]
  },
  {
   "cell_type": "code",
   "execution_count": null,
   "metadata": {},
   "outputs": [],
   "source": [
    "# 문자열의 첫 두글자와 마지막 두글자를 붙여서 출력하는 함수를 만드시오.\n",
    "# 단, 문자열의 길이가 2보다 작다면 빈 문자열을 반환하시오."
   ]
  },
  {
   "cell_type": "code",
   "execution_count": 13,
   "metadata": {},
   "outputs": [],
   "source": [
    "def comb(word):\n",
    "    if len(word) < 2:\n",
    "        return ''\n",
    "    else:\n",
    "        return word[0:2] + word[-2:]"
   ]
  },
  {
   "cell_type": "code",
   "execution_count": 14,
   "metadata": {},
   "outputs": [
    {
     "data": {
      "text/plain": [
       "'warq'"
      ]
     },
     "execution_count": 14,
     "metadata": {},
     "output_type": "execute_result"
    }
   ],
   "source": [
    "comb('warq')"
   ]
  },
  {
   "cell_type": "code",
   "execution_count": null,
   "metadata": {},
   "outputs": [],
   "source": [
    "# 첫 번째 문자 자체를 제외한 뒤쪽의 모든 첫 번째 문자와 동일한 문자들은 '$'로 변경하는 코드를 작성하시오."
   ]
  },
  {
   "cell_type": "code",
   "execution_count": null,
   "metadata": {},
   "outputs": [],
   "source": [
    "def tax(won):\n",
    "    "
   ]
  },
  {
   "cell_type": "code",
   "execution_count": null,
   "metadata": {},
   "outputs": [],
   "source": []
  },
  {
   "cell_type": "code",
   "execution_count": null,
   "metadata": {},
   "outputs": [],
   "source": []
  },
  {
   "cell_type": "code",
   "execution_count": null,
   "metadata": {},
   "outputs": [],
   "source": []
  },
  {
   "cell_type": "code",
   "execution_count": null,
   "metadata": {},
   "outputs": [],
   "source": []
  },
  {
   "cell_type": "code",
   "execution_count": null,
   "metadata": {},
   "outputs": [],
   "source": []
  },
  {
   "cell_type": "code",
   "execution_count": null,
   "metadata": {},
   "outputs": [],
   "source": []
  },
  {
   "cell_type": "code",
   "execution_count": null,
   "metadata": {},
   "outputs": [],
   "source": []
  },
  {
   "cell_type": "code",
   "execution_count": null,
   "metadata": {},
   "outputs": [],
   "source": []
  },
  {
   "cell_type": "code",
   "execution_count": null,
   "metadata": {},
   "outputs": [],
   "source": []
  }
 ],
 "metadata": {
  "kernelspec": {
   "display_name": "Python 3",
   "language": "python",
   "name": "python3"
  },
  "language_info": {
   "codemirror_mode": {
    "name": "ipython",
    "version": 3
   },
   "file_extension": ".py",
   "mimetype": "text/x-python",
   "name": "python",
   "nbconvert_exporter": "python",
   "pygments_lexer": "ipython3",
   "version": "3.7.3"
  },
  "toc": {
   "base_numbering": 1,
   "nav_menu": {},
   "number_sections": true,
   "sideBar": true,
   "skip_h1_title": false,
   "title_cell": "Table of Contents",
   "title_sidebar": "Contents",
   "toc_cell": false,
   "toc_position": {},
   "toc_section_display": true,
   "toc_window_display": false
  }
 },
 "nbformat": 4,
 "nbformat_minor": 2
}
