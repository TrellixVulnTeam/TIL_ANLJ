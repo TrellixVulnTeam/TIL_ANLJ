{
 "cells": [
  {
   "cell_type": "code",
   "execution_count": 2,
   "metadata": {},
   "outputs": [
    {
     "ename": "SyntaxError",
     "evalue": "invalid syntax (<ipython-input-2-beff78adaa54>, line 19)",
     "output_type": "error",
     "traceback": [
      "\u001b[1;36m  File \u001b[1;32m\"<ipython-input-2-beff78adaa54>\"\u001b[1;36m, line \u001b[1;32m19\u001b[0m\n\u001b[1;33m    return abs(self.p1.x - self.p2.x) = abs(self.p1.y - self.p2.y)\u001b[0m\n\u001b[1;37m                                      ^\u001b[0m\n\u001b[1;31mSyntaxError\u001b[0m\u001b[1;31m:\u001b[0m invalid syntax\n"
     ]
    }
   ],
   "source": [
    "# 문제 5\n",
    "\n",
    "class point:\n",
    "    def __init__(self, x, y):\n",
    "        self.x = x\n",
    "        self.y = y\n",
    "        \n",
    "class Rectangle:\n",
    "    def __init__(self, p1, p2):\n",
    "        self.p1 = p1\n",
    "        self.p2 = p2\n",
    "\n",
    "    def get_area(self):\n",
    "        return abs(self.p1.x - self.p2.x) * abs(self.p1.y - self.p2.y)\n",
    "    \n",
    "    def get_perimeter(self):\n",
    "        return abs(self.p1.x - self.p2.x)*2 + abs(self.p1.y - self.p2.y)*2\n",
    "    def is_square(self):\n",
    "        return abs(self.p1.x - self.p2.x) = abs(self.p1.y - self.p2.y)"
   ]
  },
  {
   "cell_type": "code",
   "execution_count": 3,
   "metadata": {},
   "outputs": [],
   "source": [
    "# 문제 4\n",
    "\n",
    "class Word:\n",
    "    def __init__(self):\n",
    "        self.wordbook = {}\n",
    "        \n",
    "    def add(self, eng, kor):\n",
    "        self.wordbook[eng] = kor\n",
    "        \n",
    "    def delete(self, eng):\n",
    "        if eng in self.wordbook:\n",
    "            self.wordbook.pop(eng)              # 특정값을 뺄 때 : pop()\n",
    "            return True\n",
    "        else:\n",
    "            return False\n",
    "    \n",
    "    def print(self):\n",
    "        for eng, kor in self.wordbook.items():\n",
    "            print(f'{eng}: {kor}')"
   ]
  },
  {
   "cell_type": "code",
   "execution_count": 8,
   "metadata": {},
   "outputs": [],
   "source": [
    "# 문제 3 (get alternative one)\n",
    "## Point: 반복되는 문자열에서 동일한 문자가 등장해도 연속되지 않으면 다시 count.\n",
    "\n",
    "def summary(word):\n",
    "    \n",
    "    result = [] # 결과\n",
    "    tmp_list = []  ## 잠시 거쳐가는 곳으로 사용\n",
    "    \n",
    "    # 1-1 단어에서 문자를 하나씩 꺼낸다.\n",
    "    for char in word:\n",
    "        #1-2 temp_list 가 빈 리스트가 아니고, tmp_list 의 마지막 값과 char가 다르면,\n",
    "        # 마지막 요소가 char와 다르다는 것은. 기존과 다른 문자가 나타났다는 말\n",
    "        # 임시리스트의 마지막 요소를 결과 리스트에 추가하고, 그 길이도 추가한다.\n",
    "        if tmp_list and temp_list[-1] != char:\n",
    "            # 1-3 임시 리스트에 마지막 값을 추가\n",
    "            result.append(temp_list[-1])\n",
    "            # 1-4 임시 리스트의 길이를 추가\n",
    "            result.append(f'{len(tmp_list)}')\n",
    "            # 1-5 임시 리스트를 비워준다.\n",
    "            tmp_list.clear()\n",
    "        # 1-6 새로운 글자를 계속 tmp_list 에 넣는다.\n",
    "        # for 문 안에 있으니 for 문이 끝날 때 까지 반복한다.\n",
    "        tmp_list.append(char)\n",
    "    # 1-7 마지막 요소는 for 문이 끝난 이후이므로, temp_list[-1] != char 조건에서\n",
    "    # 비교할 char가 없기 때문에 if 문이 동작하지 않음.\n",
    "    # 따라서 마지막으로 append 를 해줘야 한다.\n",
    "    result.append(tmp_list[-1])\n",
    "    result.append(f'{len(tmp_list)}')\n",
    "    \n",
    "    return ''.join(result)"
   ]
  },
  {
   "cell_type": "code",
   "execution_count": 10,
   "metadata": {},
   "outputs": [
    {
     "ename": "IndentationError",
     "evalue": "unexpected indent (<ipython-input-10-1c6e5e7043df>, line 3)",
     "output_type": "error",
     "traceback": [
      "\u001b[1;36m  File \u001b[1;32m\"<ipython-input-10-1c6e5e7043df>\"\u001b[1;36m, line \u001b[1;32m3\u001b[0m\n\u001b[1;33m    word = list(word)\u001b[0m\n\u001b[1;37m    ^\u001b[0m\n\u001b[1;31mIndentationError\u001b[0m\u001b[1;31m:\u001b[0m unexpected indent\n"
     ]
    }
   ],
   "source": [
    "# 문제 3(동균)\n",
    "\n",
    "    word = list(word)\n",
    "    box = []\n",
    "    cnt = 1\n",
    "    for i in range(len(word)-1):\n",
    "        if word[i] == word[i+1]:\n",
    "            cnt += 1\n",
    "        else:\n",
    "            box.append(word[i])\n",
    "            box.append(cnt)\n",
    "            cnt = 1\n",
    "    else:\n",
    "        if word[-2] == word[-1]:\n",
    "            box.append(word[-2])\n",
    "            box.append(cnt)\n",
    "        else:\n",
    "            box.append(word[-1])\n",
    "            box.append(cnt)\n",
    "    box = ''.join(list(map(str,box)))\n",
    "    return box"
   ]
  },
  {
   "cell_type": "code",
   "execution_count": 12,
   "metadata": {},
   "outputs": [],
   "source": [
    "# 문제 2\n",
    "\n",
    "def alphabet_count(word):\n",
    "    \n",
    "    #1. 일반적인 풀이\n",
    "    result = {}\n",
    "    for char in word: \n",
    "        if result.get(char):     #== if char in result:\n",
    "            result[char] += 1    # 빈 딕셔너리 result에 key 값 char /  value 값 += 1 을 추가\n",
    "        else:\n",
    "            result[char] = 1\n",
    "    return result\n",
    "\n",
    "    #2. dict comprehension\n",
    "    return {char: word.count(char) for char in word}    "
   ]
  },
  {
   "cell_type": "code",
   "execution_count": 7,
   "metadata": {},
   "outputs": [],
   "source": [
    "# 문제 1\n",
    "\n",
    "def can_divide(number, divisor):\n",
    "    \n",
    "    #1. 일반적인 풀이\n",
    "    result = []\n",
    "    \n",
    "    for number in numbers:\n",
    "        if number & divisor == 0:\n",
    "            result.append(number)\n",
    "    if result == []:\n",
    "        result.append(-1)\n",
    "        \n",
    "    return sorted(result)\n",
    "\n",
    "    #2. list comprehension\n",
    "    result = [number for number in numbers if not number % divisor] # if not: if number % divisor == 1: 이 기본값이므로 \n",
    "    result = sorted(result) if result else [-1] # True if result else False\n",
    "    return result\n",
    "\n",
    "    "
   ]
  }
 ],
 "metadata": {
  "kernelspec": {
   "display_name": "Python 3",
   "language": "python",
   "name": "python3"
  },
  "language_info": {
   "codemirror_mode": {
    "name": "ipython",
    "version": 3
   },
   "file_extension": ".py",
   "mimetype": "text/x-python",
   "name": "python",
   "nbconvert_exporter": "python",
   "pygments_lexer": "ipython3",
   "version": "3.7.3"
  },
  "toc": {
   "base_numbering": 1,
   "nav_menu": {},
   "number_sections": true,
   "sideBar": true,
   "skip_h1_title": false,
   "title_cell": "Table of Contents",
   "title_sidebar": "Contents",
   "toc_cell": false,
   "toc_position": {},
   "toc_section_display": true,
   "toc_window_display": false
  }
 },
 "nbformat": 4,
 "nbformat_minor": 2
}
