{
 "cells": [
  {
   "cell_type": "code",
   "execution_count": null,
   "metadata": {},
   "outputs": [],
   "source": [
    "empty = {}\n",
    "enter = int(input())\n",
    "for i in range(1, 1+enter):\n",
    "    empty[i]=i**2\n",
    "print(empty)    "
   ]
  },
  {
   "cell_type": "code",
   "execution_count": null,
   "metadata": {},
   "outputs": [],
   "source": [
    "my_dict = {'one': 100, 'two': -54, 'three': 247}\n"
   ]
  },
  {
   "cell_type": "code",
   "execution_count": null,
   "metadata": {},
   "outputs": [],
   "source": [
    "num = {'n1': [2, 3, 1, 9, 8], 'n2': [5, 1, 2, 3, 1], 'n3': [3, 2, 4, 9, 0]}\n",
    "\n",
    "# for key, value in num.items():\n",
    "#     value.sort()\n",
    "#print(num)\n",
    "\n",
    "result = {key: sorted(value) for key, value in num.items()}\n",
    "print(result)\n"
   ]
  },
  {
   "cell_type": "code",
   "execution_count": null,
   "metadata": {},
   "outputs": [],
   "source": [
    "dict_num = {1: 10, 2: 20, 3: 30, 4: 40, 5: 50, 6: 60}\n",
    "\n",
    "count = 0\n",
    "print('key value count')\n",
    "for key, value in dict_num.items():\n",
    "    count += 1\n",
    "    print(f'{key}   {value}   {count}')\n",
    "    \n",
    "    "
   ]
  },
  {
   "cell_type": "code",
   "execution_count": null,
   "metadata": {},
   "outputs": [],
   "source": [
    "students = {\n",
    "    'Harry': {\n",
    "        'class': 'AD', \n",
    "        'student_id': 123456},\n",
    "    \n",
    "    'Puja': {\n",
    "        'class': 'INTER', \n",
    "        'student_id': 98762}}"
   ]
  },
  {
   "cell_type": "code",
   "execution_count": null,
   "metadata": {},
   "outputs": [],
   "source": [
    "for key, value in students.items():\n",
    "    print(f'{key} {value}')\n",
    "        "
   ]
  },
  {
   "cell_type": "code",
   "execution_count": null,
   "metadata": {},
   "outputs": [],
   "source": [
    "for key, value in students.items():\n",
    "    for key2, value2 in value.items():\n",
    "        print(f'{key2} {value2}')"
   ]
  },
  {
   "cell_type": "code",
   "execution_count": null,
   "metadata": {},
   "outputs": [],
   "source": [
    "for key, value in students.items():\n",
    "    print(key)\n",
    "    for key2, value2 in value.items():\n",
    "        print(f'{key2} {value2}')"
   ]
  },
  {
   "cell_type": "code",
   "execution_count": null,
   "metadata": {},
   "outputs": [],
   "source": [
    "sample = {'John': ['sub1', 'sub2', 'sub3'], 'Kcarl': ['sub7', 'sub123'], 'Jason': [21, 1, 900]}"
   ]
  },
  {
   "cell_type": "code",
   "execution_count": null,
   "metadata": {},
   "outputs": [],
   "source": [
    "count = 0\n",
    "for value in sample.values():\n",
    "    count += len(value)\n",
    "print(count)\n"
   ]
  },
  {
   "cell_type": "code",
   "execution_count": null,
   "metadata": {},
   "outputs": [],
   "source": [
    "num = [123, 456, 897, 515, 515]\n",
    "\n",
    "zero = 0\n",
    "\n",
    "for i in num:\n",
    "    zero += i\n",
    "print(zero)"
   ]
  },
  {
   "cell_type": "code",
   "execution_count": null,
   "metadata": {},
   "outputs": [],
   "source": [
    "num = ['123', '456', '897', '515', '515']\n",
    "\n",
    "sum(list(map(int, num)))\n"
   ]
  },
  {
   "cell_type": "code",
   "execution_count": null,
   "metadata": {},
   "outputs": [],
   "source": [
    "num = ['123', '456', '897', '515', '515']\n",
    "\n",
    "box = []\n",
    "for i in num:\n",
    "    box.append(int(i))\n",
    "print(sum(box))"
   ]
  },
  {
   "cell_type": "code",
   "execution_count": null,
   "metadata": {},
   "outputs": [],
   "source": [
    "test = 'a bc def hijk'\n",
    "\n",
    "test.split()\n",
    "\n",
    "# split: str => list"
   ]
  },
  {
   "cell_type": "code",
   "execution_count": null,
   "metadata": {},
   "outputs": [],
   "source": [
    "num = [123, 456, 897, 21 , 31]\n",
    "\n",
    "base = num[0]\n",
    "\n",
    "for i in num[1:]:\n",
    "    if i < base:\n",
    "        base = i\n",
    "        \n",
    "print(base)"
   ]
  },
  {
   "cell_type": "code",
   "execution_count": null,
   "metadata": {},
   "outputs": [],
   "source": [
    "num = [123, 456, 897, 21 , 31]\n",
    "\n",
    "big = num[0]\n",
    "\n",
    "for i in num[1:]:\n",
    "    if i > big:\n",
    "        big = i\n",
    "        \n",
    "print(big)"
   ]
  },
  {
   "cell_type": "code",
   "execution_count": null,
   "metadata": {},
   "outputs": [],
   "source": [
    "long_words = 'The quick brown fox jumps over the lazy dog'\n",
    "\n",
    "div = long_words.split()\n",
    "# print(div)\n",
    "\n",
    "result = []\n",
    "for i in div:\n",
    "    if len(i) > 3:\n",
    "        result.append(i)\n",
    "print(result)"
   ]
  },
  {
   "cell_type": "code",
   "execution_count": null,
   "metadata": {},
   "outputs": [],
   "source": [
    "# 첫 번째 문자 자체를 제외한 뒤쪽의 모든 첫 번째 문자와 동일한 문자들은 '$'로 변경하는 코드를 작성하시오."
   ]
  },
  {
   "cell_type": "code",
   "execution_count": null,
   "metadata": {},
   "outputs": [],
   "source": [
    "abccad=>abcc$d"
   ]
  },
  {
   "cell_type": "code",
   "execution_count": null,
   "metadata": {},
   "outputs": [],
   "source": [
    "word = 'abcabaagaa'\n",
    "base = word[0]\n",
    "for i in word:\n",
    "    char = word.replace(word[0], '$')\n",
    "    result = base + char[1:]\n",
    "print(result)"
   ]
  },
  {
   "cell_type": "code",
   "execution_count": null,
   "metadata": {},
   "outputs": [],
   "source": []
  },
  {
   "cell_type": "code",
   "execution_count": null,
   "metadata": {},
   "outputs": [],
   "source": [
    "a = int('4')\n",
    "a = 인스턴스 int = 클래스\n",
    "\n",
    "b = []\n",
    "b = 인스턴스(변수) list = 클래스\n",
    "\n",
    "self = 인스턴스 자기자신"
   ]
  },
  {
   "cell_type": "code",
   "execution_count": null,
   "metadata": {},
   "outputs": [],
   "source": [
    "class Email:\n",
    "    \n",
    "    def __init__(self):      #생성자는 항상 넣어라 / self = 인스턴스 자기자신\n",
    "        self.is_sent = False\n",
    "        \n",
    "    \n",
    "    def send_email(self):\n",
    "        self.is_sent = True   "
   ]
  },
  {
   "cell_type": "code",
   "execution_count": null,
   "metadata": {},
   "outputs": [],
   "source": [
    "my_email = Email()"
   ]
  },
  {
   "cell_type": "code",
   "execution_count": null,
   "metadata": {},
   "outputs": [],
   "source": [
    "my_email.is_sent"
   ]
  },
  {
   "cell_type": "code",
   "execution_count": null,
   "metadata": {},
   "outputs": [],
   "source": [
    "my_email.send_email()"
   ]
  },
  {
   "cell_type": "code",
   "execution_count": null,
   "metadata": {},
   "outputs": [],
   "source": [
    "#문제 2\n",
    "\n",
    "class Bag:\n",
    "    def __init__(self):\n",
    "        self.data = []\n",
    "    \n",
    "    def add(self, num):\n",
    "        bag.data.append(num)\n",
    "        return self.data\n",
    "        \n",
    "    def add_twice(self, num):\n",
    "        self.add(num)\n",
    "        self.add(num)\n",
    "        return self.data"
   ]
  },
  {
   "cell_type": "code",
   "execution_count": null,
   "metadata": {},
   "outputs": [],
   "source": [
    "class Bag:\n",
    "    \n",
    "    def __init__(self):\n",
    "        self.data = []\n",
    "        \n",
    "    def add(self, num):\n",
    "        self.num = num\n",
    "        self.data.append()\n",
    "        \n",
    "    def add_twice(self, nums):\n",
    "        self.nums = nums\n",
    "        self.nums = nums\n",
    "        self.data.append()"
   ]
  },
  {
   "cell_type": "code",
   "execution_count": null,
   "metadata": {},
   "outputs": [],
   "source": [
    "# 문제 2\n",
    "class Bag:\n",
    "    \n",
    "    def __init__(self):\n",
    "        self.data = []\n",
    "    \n",
    "    def add(self, num):\n",
    "        bag.data.append(num)\n",
    "        return self.data\n",
    "        \n",
    "    def add_twice(self, nums):\n",
    "        self.add(num)\n",
    "        self.add(num)\n",
    "        return self.data"
   ]
  },
  {
   "cell_type": "code",
   "execution_count": null,
   "metadata": {},
   "outputs": [],
   "source": [
    "# 문제 3\n",
    "\n",
    "class SquareClass:\n",
    "    \n",
    "    def __init__(self, num):\n",
    "        self.width = num\n",
    "        \n",
    "    def square_area(self):\n",
    "        return self.width**2"
   ]
  },
  {
   "cell_type": "code",
   "execution_count": null,
   "metadata": {},
   "outputs": [],
   "source": [
    "class SquareClass:\n",
    "    \n",
    "    def __init__(self, x):\n",
    "        self.x = x\n",
    "        \n",
    "    def square_area(self):\n",
    "        return self.x**2\n",
    "        \n",
    "        "
   ]
  },
  {
   "cell_type": "code",
   "execution_count": null,
   "metadata": {},
   "outputs": [],
   "source": [
    "# 문제 4\n",
    "\n",
    "class MyClass:\n",
    "    \n",
    "    def __init__(self):\n",
    "        self.x = ''\n",
    "    \n",
    "    def get_String(self):\n",
    "        self.x = input()\n",
    "        \n",
    "    def print_String(self):\n",
    "        if self.x.islower():\n",
    "            return self.x.upper()\n",
    "        else:\n",
    "            return self.x.lower()"
   ]
  },
  {
   "cell_type": "code",
   "execution_count": null,
   "metadata": {},
   "outputs": [],
   "source": [
    "class MyClass:\n",
    "    \n",
    "    def __init__(self):\n",
    "        self.x = ''\n",
    "        \n",
    "    def get_String(self):\n",
    "        self.x = input()\n",
    "        \n",
    "    def print_String(self):\n",
    "        if self.x.isupper():\n",
    "            return self.x.lower()\n",
    "        else:\n",
    "            return self.x.upper()\n",
    "    \n",
    "    \n",
    "\n",
    "        "
   ]
  },
  {
   "cell_type": "code",
   "execution_count": null,
   "metadata": {},
   "outputs": [],
   "source": [
    "sample = MyClass()\n",
    "sample.get_String()"
   ]
  },
  {
   "cell_type": "code",
   "execution_count": null,
   "metadata": {},
   "outputs": [],
   "source": [
    "sample.print_String()"
   ]
  },
  {
   "cell_type": "code",
   "execution_count": 5,
   "metadata": {},
   "outputs": [],
   "source": [
    "# 문제 5\n",
    "\n",
    "class Student:\n",
    "    \n",
    "    def __init__(self, name, age):\n",
    "        self.name = name\n",
    "        self.age = age\n",
    "        \n",
    "    def __str__(self):\n",
    "        return f'이름은 {self.name}, 나이는 {self.age}'\n",
    "    \n",
    "class ClassMate:\n",
    "    count = 0\n",
    "    \n",
    "    def __init__(self, x, y):\n",
    "        self.x = x\n",
    "        self.y = y\n",
    "        ClassMate.count += 1\n",
    "    \n",
    "    def display(self):\n",
    "        return (self.x.name, self.y.name)\n",
    "    \n",
    "    def sum_age(self):\n",
    "        return (self.x.age, self.y.age)\n",
    "    \n",
    "    def is_teen(self):\n",
    "        return self.x.age < 20 and self.y.age < 20\n",
    "    \n",
    "    @classmethod\n",
    "    def how_many(cls):\n",
    "        return f'{cls.count} 쌍의 커플이 있습니다.'\n",
    "        \n",
    "        \n",
    "    \n",
    "    def __str__(self):\n",
    "        return f'{self.x.name}과 {self.y.name}는 커플입니다.'"
   ]
  },
  {
   "cell_type": "code",
   "execution_count": null,
   "metadata": {},
   "outputs": [],
   "source": [
    "class Student:\n",
    "    \n",
    "    def __init__(self, name, age):\n",
    "        self.name = name\n",
    "        self.age = age\n",
    "    \n",
    "    def __str__(self):\n",
    "        return f'이름은 {self.name} 나이는 {self.age}'\n",
    "    \n",
    "class ClassMate:\n",
    "    count = 0\n",
    "    \n",
    "    def __init(self, x, y):\n",
    "        return f'{self.x.name}과 {self.y.name}는 커플입니다.'\n",
    "    \n",
    "    def display(self):\n",
    "        return self.x.name, self.y.name\n",
    "    \n",
    "    def sum_age(self):\n",
    "        return self.x.age + self.y.age\n",
    "    def is_teen(self):\n",
    "        return self.x.age < 20 and self.y.age <20\n",
    "    \n",
    "    @classmethod\n",
    "    def how_many(cls):\n",
    "        return self.count\n",
    "        "
   ]
  },
  {
   "cell_type": "code",
   "execution_count": null,
   "metadata": {},
   "outputs": [],
   "source": []
  },
  {
   "cell_type": "code",
   "execution_count": null,
   "metadata": {},
   "outputs": [],
   "source": [
    "# 문제 1\n",
    "\n",
    "class Email:\n",
    "    \n",
    "    def __init__(self):\n",
    "        self.is_sent = False\n",
    "    \n",
    "    def send_email(self):\n",
    "        self.is_sent = True"
   ]
  },
  {
   "cell_type": "code",
   "execution_count": null,
   "metadata": {},
   "outputs": [],
   "source": [
    "my_email = Email()"
   ]
  },
  {
   "cell_type": "code",
   "execution_count": null,
   "metadata": {},
   "outputs": [],
   "source": [
    "my_email.is_sent"
   ]
  },
  {
   "cell_type": "code",
   "execution_count": null,
   "metadata": {},
   "outputs": [],
   "source": [
    "my_email.send_email()"
   ]
  },
  {
   "cell_type": "code",
   "execution_count": null,
   "metadata": {},
   "outputs": [],
   "source": [
    "my_email.is_sent"
   ]
  },
  {
   "cell_type": "code",
   "execution_count": null,
   "metadata": {},
   "outputs": [],
   "source": [
    "class Email:\n",
    "    \n",
    "    def __init__(self):\n",
    "        self.is_sent = False\n",
    "        \n",
    "    def send_email(self):\n",
    "        self.is_sent = True\n",
    "        \n",
    "        "
   ]
  },
  {
   "cell_type": "code",
   "execution_count": null,
   "metadata": {},
   "outputs": [],
   "source": [
    "class Email:\n",
    "    def __init__(self):\n",
    "        self.is_sent = False\n",
    "    \n",
    "    def send_email(self):\n",
    "        self.is_sent = True\n",
    "    "
   ]
  },
  {
   "cell_type": "code",
   "execution_count": null,
   "metadata": {},
   "outputs": [],
   "source": [
    "my_email = Email()"
   ]
  },
  {
   "cell_type": "code",
   "execution_count": null,
   "metadata": {},
   "outputs": [],
   "source": [
    "my_email.is_sent"
   ]
  },
  {
   "cell_type": "code",
   "execution_count": null,
   "metadata": {},
   "outputs": [],
   "source": [
    "my_email.send_email()"
   ]
  },
  {
   "cell_type": "code",
   "execution_count": null,
   "metadata": {},
   "outputs": [],
   "source": [
    "my_email.is_sent"
   ]
  },
  {
   "cell_type": "code",
   "execution_count": null,
   "metadata": {},
   "outputs": [],
   "source": [
    "# 문제 2\n",
    "\n",
    "class Bag:\n",
    "    \n",
    "    def add(self, num):\n",
    "        self.num = num\n",
    "        \n",
    "    def add_twice(self, nums):\n",
    "        self.nums = nums\n",
    "        self.nums = nums\n",
    "    \n",
    "    def data(self):\n",
    "        return\n",
    "        \n",
    "    \n"
   ]
  },
  {
   "cell_type": "code",
   "execution_count": null,
   "metadata": {},
   "outputs": [],
   "source": [
    "bag = Bag()"
   ]
  },
  {
   "cell_type": "code",
   "execution_count": null,
   "metadata": {},
   "outputs": [],
   "source": [
    "class Bag:\n",
    "    \n",
    "    def __init__(self, data):\n",
    "        self.data = data\n",
    "    \n",
    "    def add(self, num):\n",
    "        self.num = num\n",
    "        \n",
    "    def add_twice(self, nums):\n",
    "        self.nums = nums\n",
    "        self.nums = nums\n",
    "    "
   ]
  },
  {
   "cell_type": "code",
   "execution_count": null,
   "metadata": {},
   "outputs": [],
   "source": [
    "class SquareClass:\n",
    "    \n",
    "    def __init__(self):\n",
    "        return None\n",
    "        \n",
    "    def square_area(self, x):\n",
    "        self.x = x\n",
    "        return self.x**2\n",
    "        \n",
    "        "
   ]
  },
  {
   "cell_type": "code",
   "execution_count": null,
   "metadata": {},
   "outputs": [],
   "source": [
    "sample = SquareClass()\n",
    "print(sample.square_area(12))"
   ]
  },
  {
   "cell_type": "code",
   "execution_count": null,
   "metadata": {},
   "outputs": [],
   "source": [
    "class MyClass:\n",
    "    \n",
    "    def __init__(self):\n",
    "        x =''\n",
    "    \n",
    "    def get_String(self):\n",
    "        self.x = input()\n",
    "        \n",
    "    def print_String(self):\n",
    "        if self.x.isupper():\n",
    "            return self.x.lower()\n",
    "        else:\n",
    "            return self.x.upper()"
   ]
  },
  {
   "cell_type": "code",
   "execution_count": null,
   "metadata": {},
   "outputs": [],
   "source": [
    "sample = MyClass()\n",
    "sample.get_String()"
   ]
  },
  {
   "cell_type": "code",
   "execution_count": 4,
   "metadata": {},
   "outputs": [
    {
     "ename": "SyntaxError",
     "evalue": "invalid syntax (<ipython-input-4-dca054137ed6>, line 7)",
     "output_type": "error",
     "traceback": [
      "\u001b[1;36m  File \u001b[1;32m\"<ipython-input-4-dca054137ed6>\"\u001b[1;36m, line \u001b[1;32m7\u001b[0m\n\u001b[1;33m    def __str__:\u001b[0m\n\u001b[1;37m               ^\u001b[0m\n\u001b[1;31mSyntaxError\u001b[0m\u001b[1;31m:\u001b[0m invalid syntax\n"
     ]
    }
   ],
   "source": [
    "class Student:\n",
    "    \n",
    "    def __init__(self, name, age):\n",
    "        self.name = name\n",
    "        self.age = age\n",
    "        \n",
    "    def __str__:\n",
    "        return f'이름은 {self.name}, 나이는 {self.age}'\n",
    "    \n",
    "class ClassMate:\n",
    "    count = 0\n",
    "    \n",
    "    def __init__(self, x, y):\n",
    "        self.x = x\n",
    "        self.y = y\n",
    "        count += 1\n",
    "    \n",
    "    def __str__(self):\n",
    "        return f'{self.x.name}과 {self.y.name}는 커플입니다.'\n",
    "    \n",
    "    def display(self, self.x.name, self.y.name):\n",
    "        "
   ]
  },
  {
   "cell_type": "code",
   "execution_count": null,
   "metadata": {},
   "outputs": [],
   "source": [
    "class Student:\n",
    "    \n",
    "    def __init__(self, name, age):\n",
    "        self.name = name\n",
    "        self.age = age\n",
    "    \n",
    "    def __str__(self):\n",
    "        return f'이름은 {self.name} 나이는 {self.age}'\n",
    "    \n",
    "class ClassMate:\n",
    "    count = 0\n",
    "    \n",
    "    def __init(self, x, y):\n",
    "        return f'{self.x.name}과 {self.y.name}는 커플입니다.'\n",
    "    \n",
    "    def display(self):\n",
    "        return self.x.name, self.y.name\n",
    "    \n",
    "    def sum_age(self):\n",
    "        return self.x.age + self.y.age\n",
    "    def is_teen(self):\n",
    "        return if self.x.age < 20 and self.y.age <20\n",
    "    \n",
    "    @classmethod\n",
    "    def how_many(cls):\n",
    "        return self.count\n",
    "        "
   ]
  },
  {
   "cell_type": "code",
   "execution_count": null,
   "metadata": {},
   "outputs": [],
   "source": [
    "class Email:\n",
    "    def __init__(self):\n",
    "        self.is_sent = False\n",
    "    \n",
    "    def send_email(self):\n",
    "        self.is_sent = True\n",
    "    "
   ]
  },
  {
   "cell_type": "code",
   "execution_count": null,
   "metadata": {},
   "outputs": [],
   "source": [
    "my_email = Email()"
   ]
  },
  {
   "cell_type": "code",
   "execution_count": null,
   "metadata": {},
   "outputs": [],
   "source": [
    "my_email.is_sent"
   ]
  },
  {
   "cell_type": "code",
   "execution_count": null,
   "metadata": {},
   "outputs": [],
   "source": [
    "my_email.send_email()"
   ]
  },
  {
   "cell_type": "code",
   "execution_count": null,
   "metadata": {},
   "outputs": [],
   "source": [
    "my_email.is_sent"
   ]
  },
  {
   "cell_type": "code",
   "execution_count": null,
   "metadata": {},
   "outputs": [],
   "source": [
    "class Bag:\n",
    "    \n",
    "    def __init__(self):\n",
    "        self.data = []\n",
    "        \n",
    "    def add(self, num):\n",
    "        self.num = num\n",
    "        self.data.append()\n",
    "        \n",
    "    def add_twice(self, nums):\n",
    "        self.nums = nums\n",
    "        self.nums = nums\n",
    "        self.data.append()"
   ]
  },
  {
   "cell_type": "code",
   "execution_count": null,
   "metadata": {},
   "outputs": [],
   "source": [
    "bag = Bag()"
   ]
  },
  {
   "cell_type": "code",
   "execution_count": null,
   "metadata": {},
   "outputs": [],
   "source": [
    "class SquareClass:\n",
    "    \n",
    "    def __init__(self):\n",
    "        return None\n",
    "    \n",
    "    def square_area(self, mul):\n",
    "        self.mul = mul\n",
    "        return mul**2\n",
    "        "
   ]
  },
  {
   "cell_type": "code",
   "execution_count": null,
   "metadata": {},
   "outputs": [],
   "source": [
    "sample = SquareClass()\n",
    "print(sample.square_area(12))"
   ]
  },
  {
   "cell_type": "code",
   "execution_count": null,
   "metadata": {},
   "outputs": [],
   "source": [
    "class MyClass:\n",
    "    \n",
    "    def __init__(self):\n",
    "        self.x = ''\n",
    "        \n",
    "    def get_String(self):\n",
    "        self.x = input()\n",
    "        \n",
    "    def print_String(self):\n",
    "        if self.x.isupper():\n",
    "            return self.x.lower()\n",
    "        else:\n",
    "            return self.x.upper()"
   ]
  },
  {
   "cell_type": "code",
   "execution_count": 2,
   "metadata": {},
   "outputs": [
    {
     "name": "stdout",
     "output_type": "stream",
     "text": [
      "asdasd\n"
     ]
    }
   ],
   "source": [
    "sample = MyClass()\n",
    "sample.get_String()"
   ]
  },
  {
   "cell_type": "code",
   "execution_count": 3,
   "metadata": {},
   "outputs": [
    {
     "ename": "SyntaxError",
     "evalue": "invalid syntax (<ipython-input-3-79688c91e700>, line 22)",
     "output_type": "error",
     "traceback": [
      "\u001b[1;36m  File \u001b[1;32m\"<ipython-input-3-79688c91e700>\"\u001b[1;36m, line \u001b[1;32m22\u001b[0m\n\u001b[1;33m    return if self.x.age < 20 and self.y.age <20\u001b[0m\n\u001b[1;37m            ^\u001b[0m\n\u001b[1;31mSyntaxError\u001b[0m\u001b[1;31m:\u001b[0m invalid syntax\n"
     ]
    }
   ],
   "source": [
    "class Student:\n",
    "    \n",
    "    def __init__(self, name, age):\n",
    "        self.name = name\n",
    "        self.age = age\n",
    "    \n",
    "    def __str__(self):\n",
    "        return f'이름은 {self.name} 나이는 {self.age}'\n",
    "    \n",
    "class ClassMate:\n",
    "    count = 0\n",
    "    \n",
    "    def __init(self, x, y):\n",
    "        return f'{self.x.name}과 {self.y.name}는 커플입니다.'\n",
    "    \n",
    "    def display(self):\n",
    "        return self.x.name, self.y.name\n",
    "    \n",
    "    def sum_age(self):\n",
    "        return self.x.age + self.y.age\n",
    "    def is_teen(self):\n",
    "        return if self.x.age < 20 and self.y.age <20\n",
    "    \n",
    "    @classmethod\n",
    "    def how_many(cls):\n",
    "        return self.count\n",
    "        "
   ]
  },
  {
   "cell_type": "code",
   "execution_count": null,
   "metadata": {},
   "outputs": [],
   "source": []
  },
  {
   "cell_type": "code",
   "execution_count": null,
   "metadata": {},
   "outputs": [],
   "source": []
  }
 ],
 "metadata": {
  "kernelspec": {
   "display_name": "Python 3",
   "language": "python",
   "name": "python3"
  },
  "language_info": {
   "codemirror_mode": {
    "name": "ipython",
    "version": 3
   },
   "file_extension": ".py",
   "mimetype": "text/x-python",
   "name": "python",
   "nbconvert_exporter": "python",
   "pygments_lexer": "ipython3",
   "version": "3.7.3"
  },
  "toc": {
   "base_numbering": 1,
   "nav_menu": {},
   "number_sections": true,
   "sideBar": true,
   "skip_h1_title": false,
   "title_cell": "Table of Contents",
   "title_sidebar": "Contents",
   "toc_cell": false,
   "toc_position": {},
   "toc_section_display": true,
   "toc_window_display": false
  }
 },
 "nbformat": 4,
 "nbformat_minor": 2
}
