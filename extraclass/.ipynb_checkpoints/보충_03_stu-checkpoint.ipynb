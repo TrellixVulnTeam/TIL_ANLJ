{
 "cells": [
  {
   "cell_type": "markdown",
   "metadata": {},
   "source": [
    "### 문제\n",
    "1부터 입력된 숫자 값까지 키로 설정하고 값은 키의 제곱이 되는 딕셔너리를 작성하시오\n",
    "\n",
    "```python\n",
    "# 입력\n",
    "Input a number 5\n",
    "# 출력\n",
    "{1: 1, 2: 4, 3: 9, 4: 16, 5: 25}\n",
    "```"
   ]
  },
  {
   "cell_type": "code",
   "execution_count": null,
   "metadata": {},
   "outputs": [],
   "source": [
    "{x: x**2 for x in range(1, x+1)}"
   ]
  },
  {
   "cell_type": "markdown",
   "metadata": {},
   "source": [
    "### 문제\n",
    "딕셔너리의 모든 값을 곱한 값을 구하시오\n",
    "```python\n",
    "my_dict = {'one': 100, 'two': -54, 'three': 247}\n",
    "\n",
    "# 출력\n",
    "-1333800\n",
    "```"
   ]
  },
  {
   "cell_type": "code",
   "execution_count": null,
   "metadata": {},
   "outputs": [],
   "source": [
    "my_dict = {'one': 100, 'two': -54, 'three': 247}\n",
    "\n",
    "# mul = []\n",
    "# for value in my_dict.values():\n",
    "#     result = mul.append(value)\n",
    "# print(result)\n",
    "    \n",
    "    \n",
    "a = my_dict.get('one') \n",
    "b = my_dict.get('two')  \n",
    "c = my_dict.get('three') \n",
    "result = a*b*c\n",
    "\n",
    "print(result)\n"
   ]
  },
  {
   "cell_type": "markdown",
   "metadata": {},
   "source": [
    "### 문제\n",
    "리스트 키의 요소를 정렬하시오\n",
    "```python\n",
    "num = {'n1': [2, 3, 1, 9, 8], 'n2': [5, 1, 2, 3, 1], 'n3': [3, 2, 4, 9, 0]}\n",
    "\n",
    "# 출력 \n",
    "{'n1': [1, 2, 3, 8, 9], 'n2': [1, 1, 2, 3, 5], 'n3': [0, 2, 3, 4, 9]}\n",
    "```\n"
   ]
  },
  {
   "cell_type": "code",
   "execution_count": null,
   "metadata": {},
   "outputs": [],
   "source": [
    "num = {'n1': [2, 3, 1, 9, 8], 'n2': [5, 1, 2, 3, 1], 'n3': [3, 2, 4, 9, 0]}\n",
    "\n",
    "val_list = list(num.values())\n",
    "# print(val_list)\n",
    "for key, val in num.items():\n",
    "    val.sort()\n",
    "print(num)\n",
    "\n"
   ]
  },
  {
   "cell_type": "code",
   "execution_count": null,
   "metadata": {},
   "outputs": [],
   "source": [
    "{key: sorted(value) for key, value in num.items()}"
   ]
  },
  {
   "cell_type": "markdown",
   "metadata": {},
   "source": [
    "### 문제\n",
    "\n",
    "다음과 같은 딕셔너리가 있다면 아래와 같이 출력하시오\n",
    "\n",
    "```python\n",
    "dict_num = {1: 10, 2: 20, 3: 30, 4: 40, 5: 50, 6: 60}\n",
    "\n",
    "# 출력\n",
    "key  value  count                                                                                             \n",
    "1     10      1                                                                                               \n",
    "2     20      2                                                                                               \n",
    "3     30      3                                                                                               \n",
    "4     40      4                                                                                               \n",
    "5     50      5                                                                                               \n",
    "6     60      6\n",
    "```"
   ]
  },
  {
   "cell_type": "code",
   "execution_count": 1,
   "metadata": {},
   "outputs": [],
   "source": [
    "dict_num = {1: 10, 2: 20, 3: 30, 4: 40, 5: 50, 6: 60}"
   ]
  },
  {
   "cell_type": "code",
   "execution_count": 5,
   "metadata": {},
   "outputs": [
    {
     "name": "stdout",
     "output_type": "stream",
     "text": [
      "key value count\n",
      "1     10      1\n",
      "2     20      2\n",
      "3     30      3\n",
      "4     40      4\n",
      "5     50      5\n",
      "6     60      6\n"
     ]
    }
   ],
   "source": [
    "print('key value count')\n",
    "count = 1\n",
    "for k, v in dict_num.items():\n",
    "    print(f'{k}     {v}      {count}')\n",
    "    count += 1"
   ]
  },
  {
   "cell_type": "code",
   "execution_count": null,
   "metadata": {},
   "outputs": [],
   "source": [
    "for count, (key, value) in enumerate(dict_num.items(), 1):\n",
    "    \n",
    "    "
   ]
  },
  {
   "cell_type": "markdown",
   "metadata": {},
   "source": [
    "### 문제\n",
    "\n",
    "아래와 같은 딕셔너리를 분해하여 출력하시오\n",
    "\n",
    "```python\n",
    "students = {\n",
    "    'Harry': {'class': 'AD', 'student_id': 123456},\n",
    "    'Puja': {'class': 'INTER', 'student_id': 98762}\n",
    "}\n",
    "\n",
    "# 출력\n",
    "Harry\n",
    "class : AD\n",
    "student_id : 123456\n",
    "Puja\n",
    "class : INTER\n",
    "student_id : 98762\n",
    "```"
   ]
  },
  {
   "cell_type": "code",
   "execution_count": null,
   "metadata": {},
   "outputs": [],
   "source": [
    "students = {\n",
    "    'Harry': {\n",
    "        'class': 'AD',\n",
    "        'student_id': 123456},\n",
    "    'Puja': {\n",
    "        'class': 'INTER', \n",
    "        'student_id': 98762}\n",
    "}"
   ]
  },
  {
   "cell_type": "code",
   "execution_count": null,
   "metadata": {},
   "outputs": [],
   "source": [
    "for k, v in students.items():\n",
    "    print(k)\n",
    "    for k2, v2 in v.items():\n",
    "        print(f'{k2}: {v2}')"
   ]
  },
  {
   "cell_type": "markdown",
   "metadata": {},
   "source": [
    "### 문제\n",
    "딕셔너리의 키인 리스트 요소의 총 개수를 구하시오\n",
    "```python\n",
    "sample = {'John': ['sub1', 'sub2', 'sub3'], 'Kcarl': ['sub7', 'sub123'], 'Jason': [21, 1, 900]}\n",
    "\n",
    "# 출력\n",
    "8\n",
    "```"
   ]
  },
  {
   "cell_type": "code",
   "execution_count": null,
   "metadata": {},
   "outputs": [],
   "source": [
    "sample = {'John': ['sub1', 'sub2', 'sub3'], 'Kcarl': ['sub7', 'sub123'], 'Jason': [21, 1, 900]}"
   ]
  },
  {
   "cell_type": "code",
   "execution_count": null,
   "metadata": {},
   "outputs": [],
   "source": [
    "count = 0\n",
    "for val in sample.values():\n",
    "    count += len(val)\n",
    "print(count)"
   ]
  },
  {
   "cell_type": "code",
   "execution_count": null,
   "metadata": {},
   "outputs": [],
   "source": [
    "sum([len(val) for val in sample.values()])"
   ]
  },
  {
   "cell_type": "code",
   "execution_count": null,
   "metadata": {},
   "outputs": [],
   "source": [
    "count = sum(map(len, sample.values()))\n",
    "count"
   ]
  }
 ],
 "metadata": {
  "kernelspec": {
   "display_name": "Python 3",
   "language": "python",
   "name": "python3"
  },
  "language_info": {
   "codemirror_mode": {
    "name": "ipython",
    "version": 3
   },
   "file_extension": ".py",
   "mimetype": "text/x-python",
   "name": "python",
   "nbconvert_exporter": "python",
   "pygments_lexer": "ipython3",
   "version": "3.7.3"
  },
  "toc": {
   "base_numbering": 1,
   "nav_menu": {},
   "number_sections": true,
   "sideBar": true,
   "skip_h1_title": false,
   "title_cell": "Table of Contents",
   "title_sidebar": "Contents",
   "toc_cell": false,
   "toc_position": {},
   "toc_section_display": true,
   "toc_window_display": false
  }
 },
 "nbformat": 4,
 "nbformat_minor": 2
}
