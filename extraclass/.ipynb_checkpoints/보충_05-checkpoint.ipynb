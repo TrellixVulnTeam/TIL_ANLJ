{
 "cells": [
  {
   "cell_type": "markdown",
   "metadata": {},
   "source": [
    "### 파이썬에서 제공하는 built-in-function이 아닌 것은?\n",
    "\n",
    "```python\n",
    "1. abs() \n",
    "\n",
    "2. sqrt() # 제곱근\n",
    "import math\n",
    "math.sqrt\n",
    "\n",
    "3. list()\n",
    "\n",
    "4. map()\n",
    "```"
   ]
  },
  {
   "cell_type": "markdown",
   "metadata": {},
   "source": [
    "### 다음 중 시퀀스 자료형의 특징이 아닌 것을 고르시오.\n",
    "\n",
    "1. list, tuple, range, string, binary 같은 자료형 타입이 있다. \n",
    "2. 데이터가 연속적으로 나열되어 있는 자료형이다.\t\n",
    "3. in 연산자를 통해 특정 값이 시퀀스 자료형에 있는지 확인할 수 있다.\t\n",
    "4. 기본적으로 정렬이 되어 있지만, 사용자 임의대로 순서를 변경할 수 있다.\n",
    "-> 파이썬 시퀀스 자료형은 순서대로 '나열'된 것이지 정렬은 아니다. \n",
    "numbers = [4, 3, 2, 1] -> 정렬된 것이 아님\n",
    "numbers.sort() -> 정렬"
   ]
  },
  {
   "cell_type": "markdown",
   "metadata": {},
   "source": [
    "### 보기의 파이썬 코드를 실행하였을 때, 출력되는 모습으로 옳은 것을 고르시오.\n",
    "```python\n",
    "names = ['John', 'Ron', 'James', 'Betty']\n",
    "print(names[-2][-2]) -> e\n",
    "```"
   ]
  },
  {
   "cell_type": "markdown",
   "metadata": {},
   "source": [
    "### 보기의 파이썬 코드를 작성한 후 p3.population을 출력하면 나오는 값을 고르시오.\n",
    "\n",
    "```python\n",
    "class Person:\n",
    "    population = 0\n",
    "    \n",
    "    def __init__(self, name):\n",
    "        self.name = name\n",
    "        Person.population += 1\n",
    "\n",
    "p1 = Person('hong')\n",
    "p2 = Person('kim')\n",
    "p3 = Person('kang')\n",
    "\n",
    "->3\n",
    "```"
   ]
  },
  {
   "cell_type": "markdown",
   "metadata": {},
   "source": [
    "### 오답) 보기의 파이썬 코드를 실행하였을 때,  오류가 발생하는 것을 고르시오.\n",
    "\n",
    "```python\n",
    "my_complex = 3+4j\n",
    "my_list = [1, 2, 3]\n",
    "my_dict = {1: 1, 2: 2}\n",
    "```\n",
    "\n",
    "1. my_complex.real()\t\n",
    "2. my_list.sort()\t\n",
    "3. my_list.pop()\t\n",
    "4. my_dict.keys()\n",
    "\n",
    "-> 1. .real은 인스턴스 '메서드가 아니라 인스턴스 변수'이므로 (호출신호) 없어야 작동한다. "
   ]
  },
  {
   "cell_type": "code",
   "execution_count": 1,
   "metadata": {},
   "outputs": [],
   "source": [
    "my_complex = 3+4j"
   ]
  },
  {
   "cell_type": "code",
   "execution_count": 2,
   "metadata": {},
   "outputs": [
    {
     "data": {
      "text/plain": [
       "3.0"
      ]
     },
     "execution_count": 2,
     "metadata": {},
     "output_type": "execute_result"
    }
   ],
   "source": [
    "my_complex.real"
   ]
  },
  {
   "cell_type": "markdown",
   "metadata": {},
   "source": [
    "### 보기의 파이썬 코드를 실행하였을 때, 화면에 출력되는 결과를 작성하시오.\n",
    "\n",
    "```python\n",
    "def func(c, b, a):\n",
    "    return a*b + c\n",
    "\n",
    "print(func(2, 5, 4))\n",
    "-> 위치인자: 4*5+2=22\n",
    "```"
   ]
  },
  {
   "cell_type": "markdown",
   "metadata": {},
   "source": [
    "### 보기의 코드를 실행하면 출력되는 결과는 <class '______'> 이다. 빈칸에 들어갈 말을 고르시오.\n",
    "\n",
    "```python\n",
    "print(type({ 'a': 'apple' }))\n",
    "-> dict\n",
    "```"
   ]
  },
  {
   "cell_type": "markdown",
   "metadata": {},
   "source": [
    "### 오답) 함수에 대한 설명으로 옳지 않은 것을 고르시오.(3)\n",
    "\n",
    "1. 함수의 인자(parameter)는 함수 선언시 설정한 값이며, 인수(argument)는 함수 호출시 넘겨주는 값이다.\t\n",
    "2. 함수는 오직 하나의 객체만 반환할 수 있다.\t\n",
    "3. 함수에서 return을 작성하지 않으면 코드 실행시 오류가 발생한다.-> None을 반환\t\n",
    "4. 같은 이름의 함수를 선언하면, 함수 호출 시 나중에 선언된 함수가 실행된다."
   ]
  },
  {
   "cell_type": "code",
   "execution_count": 1,
   "metadata": {},
   "outputs": [],
   "source": [
    "def fuc(a, b): # parameter\n",
    "    pass\n",
    "fuc(1, 2) #argument"
   ]
  },
  {
   "cell_type": "markdown",
   "metadata": {},
   "source": [
    "### 오답) 다섯 개의 정수 0을 가진 리스트를 만드는 방법 중 틀린 것을 고르시오.\n",
    "\n",
    "```python\n",
    "1. numbers = [0, 0, 0, 0, 0]\t\n",
    "2. numbers = [0] * 5\t\n",
    "3. numbers = [] ; numbers.append(0*5) = append(0)으로 연산된 후에 나온다 -> [] ; numbers.append(0)\n",
    "4. numbers = [0 for i in range(5)] # 안쓰이는 변수일경우 for _ in range(5) 로 사용 가능\n",
    "```"
   ]
  },
  {
   "cell_type": "markdown",
   "metadata": {},
   "source": [
    "### 보기의 파이썬 코드를 실행하였을 때, 출력되는 결과를 고르시오.\n",
    "\n",
    "```python\n",
    "# bool, number(int, float, complex) 타입의 자료형은 파이썬 내부적으로 암시적인 형변환을 해준다.\n",
    "\n",
    "result = 4 + True + False + 5\n",
    "              1        0\n",
    "print(result) 10\n",
    "```"
   ]
  },
  {
   "cell_type": "markdown",
   "metadata": {},
   "source": [
    "###  오답) 보기의 파이썬 코드를 실행하였을 때, 결과로 옳은 것을 고르시오.\n",
    "\n",
    "```python\n",
    "s = 'hello my name is ssafy'\n",
    "for i in s:\n",
    "    if i == 'm':\n",
    "        print(s)\n",
    "        \n",
    "        s에 m은 2개 있고, print(s)를 했으므로 s 전체가 2번 반복된다.\n",
    "```"
   ]
  },
  {
   "cell_type": "markdown",
   "metadata": {},
   "source": [
    "### 보기의 파이썬 코드를 실행하였을 때, 결과로 옳은 것을 고르시오.(4)\n",
    "\n",
    "```python\n",
    "d1 = {'d': dict()} -> {d: {}}\n",
    "d2 = dict(d={}) -> {d: {}}\n",
    "```\n",
    "\n",
    "1. d1 == d2 는 False 다.\t-> 틀림\n",
    "2. len(d1) 은 1, len(d2) 는 0 이다. -> 둘 다 1이다.(key 값이 1개)\t\n",
    "3. id(d1) == id(d2) 는 True 다. -> 모양은 같지만, 바라보는 곳은 다름\t\n",
    "4. d1 의 value 와 d2 의 value 는 모두 비어있는 딕셔너리다."
   ]
  },
  {
   "cell_type": "markdown",
   "metadata": {},
   "source": [
    "### 보기의 파이썬 코드를 실행하였을 때, 결과로 옳은 것을 고르시오. (2)\n",
    "\n",
    "```python\n",
    "fruits = { 'apple': '사과', 'banana': '바나나' }\n",
    "a = fruits.get('apple') 사과\n",
    "b = fruits.get('cherry') none\n",
    "c = fruits.get('melon', True) True\n",
    "d = { a: b } {'사과' : 'None'}\n",
    "if c:\n",
    "    print(d)\n",
    "```\n",
    "\n",
    "1. 에러가 난다.\t\n",
    "2. b 는 None 이다.\t\n",
    "3. 실행하면 아무것도 출력되지 않는다.\t\n",
    "4. d 는 { 'apple': 'cherry' } 다."
   ]
  },
  {
   "cell_type": "markdown",
   "metadata": {},
   "source": [
    "### 보기의 파이썬 코드를 실행하였을 때, 화면에 출력되는 결과로 옳은 것은?\n",
    "\n",
    "```python\n",
    "def func(c='5', *args):\n",
    "    a, c, b = args\n",
    "    return a + b + c\n",
    "\n",
    "print(func('3','4','1','2'))\n",
    "```\n",
    "c 의 기본값이 정의되어 있지만 인수가 넘어왔으므로 '3' 으로 최종 할당되고, *args 가변인자이므로 몇개가 오더라도 하나의 args tuple 로 할당된다. \n",
    "\n",
    "tuple 에 할당된 값('4', '1', '2') 변수 a, c, b 에 순서대로 할당 되고, 이 과정에서 c에 할당됐던 '3'이 '1'로 바뀐다.\n",
    "c = '3' args = ('4', '1', '2')\n",
    "\n",
    "a = 4\n",
    "c = 1\n",
    "b = 2\n",
    "\n",
    "정답: 421"
   ]
  },
  {
   "cell_type": "markdown",
   "metadata": {},
   "source": [
    "### 오답) 보기의 파이썬 코드를 실행하였을 때, 출력되는 결과로 옳은 것을 고르시오. (3) ***\n",
    "\n",
    "```python\n",
    "name = 'hong'  # 전역변수\n",
    "\n",
    "class Person:\n",
    "    name = 'choi'  # 지역 변수\n",
    "    def greeting(self):\n",
    "        print(name)\n",
    "\n",
    "p1 = Person()\n",
    "p1.name = 'kim'\n",
    "p1.greeting()\n",
    "```\n",
    "\n",
    "1. kim\tprint(self.name)여야 답이다.\n",
    "2. choi\t\n",
    "3. hong\t\n",
    "4. None\n",
    "\n",
    "name 탐색 순서: def 함수 안 > 지역(class)변수 > 전역변수\n",
    "\n",
    "인스턴스의 name을 호출하기 위해서는 self.name 이어야 한다.\n",
    "인스턴스 입장에서 name이 없기 때문에 클래스로 갔지만, 클래스에서도 name을 찾지 못한다.(Person.name 인 클래스 변수가 아니었기 때문)\n",
    "결국 name 탐색 순서: def 함수 안 > 지역(class)변수 > 전역변수인 name ='hong' 을 프린트하게 된다."
   ]
  },
  {
   "cell_type": "markdown",
   "metadata": {},
   "source": [
    "### 보기의 my_int가 정수형인지 확인할 수 있는 방법 중 옳은 것을 고르시오. (4)\n",
    "\n",
    "```python\n",
    "my_int = 3\n",
    "```\n",
    "1. isinstance(int, my_int)\t   #isinstance(인스턴스, 클래스)\n",
    "2. my_int == 3\t(값 비교일뿐, type 확인이 아님)\n",
    "3. isinstance(my_int, 3)\t\n",
    "4. type(my_int) == int  == isinstance(my_int, int)"
   ]
  },
  {
   "cell_type": "markdown",
   "metadata": {},
   "source": [
    "### 보기의 파이썬 코드를 작성한 후 인스턴스를 만드려고 한다. 다음 중 옳은 것을 고르시오.(3)\n",
    "\n",
    "```python\n",
    "class Person:\n",
    "    def __init__(self, name, age):\n",
    "        self.name = name\n",
    "```\n",
    "\n",
    "1. p1 = Person(p1, 'hong', 100)\t\n",
    "2. p2 = Person('kim')\t\n",
    "3. p3 = Person(age=3, name='kang') -> 함수와 마차나지로 순서가 바뀌어도 키워드 인자로 넘겨주면 문제없이 호출 가능하다.\n",
    "4. p4 = Person()"
   ]
  },
  {
   "cell_type": "markdown",
   "metadata": {},
   "source": [
    "### 보기의 파이썬 코드를 실행하였을 때, 출력되는 결과를 작성하시오. hon\n",
    "\n",
    "```python\n",
    "word = 'python'\n",
    "\n",
    "indexing = word[3:8]\n",
    "\n",
    "print(indexing)\n",
    "```"
   ]
  },
  {
   "cell_type": "markdown",
   "metadata": {},
   "source": [
    "### 보기의 파이썬 코드를 실행하였을 때, result 변수에 들어있는 값을 작성하시오. None이다. return이 없으므로\n",
    "\n",
    "```python\n",
    "def my_sum(a, b):\n",
    "    c = a + b\n",
    "    print(c)\n",
    "\n",
    "result = my_sum(5, 8)\n",
    "```"
   ]
  },
  {
   "cell_type": "markdown",
   "metadata": {},
   "source": [
    "### 보기의 파이썬 코드를 실행하였을 때, 결과로 옳은 것을 고르시오. (2)\n",
    "\n",
    "```python\n",
    "string = 'I am hungry'\n",
    "result = ''\n",
    "for idx, value in enumerate(string):\n",
    "    if idx % 2:\n",
    "        result += value.upper()\n",
    "    else:\n",
    "        result += value\n",
    "print(result)\n",
    "```\n",
    "\n",
    "1. I AM HUNGRY\t\n",
    "2. I aM HuNgRy\t\n",
    "3. I Am hUnGrY\t\n",
    "4. 오류 발생"
   ]
  },
  {
   "cell_type": "markdown",
   "metadata": {},
   "source": [
    "### 보기의 파이썬 코드를 실행하였을 때, 다음 중 옳은 것을 고르시오. (4)\n",
    "\n",
    "```python\n",
    "d = {'a': 1, 'b': 2}\n",
    "a1 = d.update(c=3) return 값이 없음 따라서 a1 = None\n",
    "a2 = a1 / a2 = None\n",
    "```\n",
    "\n",
    "1. len(a1) 은 2 다. 틀림\n",
    "2. a1 와 a2 는 같은 딕셔너리를 가리키고 있다.\ta1 = a2 = None\n",
    "3. 이 코드는 에러가 발생한다.\t에러 x None 일뿐\n",
    "4. 보기 중에는 답이 없다.\n",
    "\n",
    ".update 메서드는 원본을 변경하고 return 값은 없다.(None)"
   ]
  },
  {
   "cell_type": "markdown",
   "metadata": {},
   "source": [
    "### 보기의 파이썬 코드를 실행하였을 때, 화면에 출력되는 결과로 옳은 것은?\n",
    "\n",
    "```python\n",
    "def func(a, b=1, c=2, *args, **kwargs):\n",
    "    d = sum([n*2 for n in args if n > 2])\n",
    "    e = sum([v*v for k, v in kwargs.items()])\n",
    "    return a + b + c + d + e\n",
    "\n",
    "print(func(9, 4, 2, 3, 1, 7, d=3, e=6))\n",
    "```\n",
    "\n",
    "1. 80\t\n",
    "2. 81\t\n",
    "3. 82\t\n",
    "4. 83"
   ]
  },
  {
   "cell_type": "code",
   "execution_count": 5,
   "metadata": {},
   "outputs": [
    {
     "ename": "SyntaxError",
     "evalue": "invalid syntax (<ipython-input-5-b0ca6aa48c8d>, line 1)",
     "output_type": "error",
     "traceback": [
      "\u001b[1;36m  File \u001b[1;32m\"<ipython-input-5-b0ca6aa48c8d>\"\u001b[1;36m, line \u001b[1;32m1\u001b[0m\n\u001b[1;33m    a = 9 / b = 4 / c = 2 / args = 3, 1, 7 kwargs = {d:3, e: 6}  <> b와 c의 default는 값을 안넣었을 때 1, 2가 들어간다는말이지 들어가면 무시되는 값\u001b[0m\n\u001b[1;37m                                                ^\u001b[0m\n\u001b[1;31mSyntaxError\u001b[0m\u001b[1;31m:\u001b[0m invalid syntax\n"
     ]
    }
   ],
   "source": [
    "a = 9 / b = 4 / c = 2 / args = 3, 1, 7 kwargs = {d:3, e: 6}  <> b와 c의 default는 값을 안넣었을 때 1, 2가 들어간다는말이지 들어가면 무시되는 값\n",
    "\n",
    "d = 3*2 + 7*2 \n",
    "e = 3*3 + 6 *6  (변수가 k, v 두개 있어도 식에는 1개만 사용도 가능)"
   ]
  },
  {
   "cell_type": "markdown",
   "metadata": {},
   "source": [
    "### 보기는 재귀 함수를 통해 구현된 피보나치를 구하는 파이썬 코드이다. 이 코드를 실행하였을 때, fib(0)과 fib(1)이 호출되는 횟수를 각각 나타낸 것으로 옳은 것은? (2)\n",
    "\n",
    "```python\n",
    "def fib(n):\n",
    "    if n == 0 or n==1:\n",
    "        return 1\n",
    "    else:\n",
    "        return fib(n-1) + fib(n-2)\n",
    "\n",
    "print(fib(4))\n",
    "```\n",
    "\n",
    "1. 1번, 4번\t\n",
    "2. 2번, 3번\t\n",
    "3. 3번, 2번\t\n",
    "4. 4번, 1번\n",
    "\n",
    "트리를 그려서 파악하는게 쉽다"
   ]
  },
  {
   "cell_type": "markdown",
   "metadata": {},
   "source": [
    "### 보기의 파이썬 코드를 실행하였을 때, 화면에 출력되는 결과를 작성하시오. (11)\n",
    "\n",
    "```python\n",
    "a = 1   # 전역 변수\n",
    "def func_1():\n",
    "    a = 5 #지역 변수\n",
    "    func_2()\n",
    "\n",
    "def func_2():\n",
    "    print(a, end='')\n",
    "\n",
    "func_1()  # 1\n",
    "print(a)  # 1\n",
    "```\n",
    "\n",
    "LEGB 로 나아감\n"
   ]
  },
  {
   "cell_type": "markdown",
   "metadata": {},
   "source": [
    "### 보기의 파이썬 코드를 실행하였을 때, 틀린 것을 고르시오. (3)\n",
    "\n",
    "```python\n",
    "import copy\n",
    "\n",
    "list1 = [3, 'a', 'b']\n",
    "list2 = [1, 2, list1]\n",
    "\n",
    "list3 = list1[:]\n",
    "list4 = copy.copy(list2)\n",
    "list5 = copy.deepcopy(list2)\n",
    "```\n",
    "\n",
    "\n",
    "1. list1 == list3의 결과는 True이다. -> \n",
    "2. list4[2][0] = 4 / print(list2[2][0])의 결과는 4이다.\t\n",
    "3. list4[2] = 5 / print(list2[2])의 결과는 5이다.\n",
    "4. list5[2][1] = 3 / print(list2[2][1])의 결과는 'a'이다."
   ]
  }
 ],
 "metadata": {
  "kernelspec": {
   "display_name": "Python 3",
   "language": "python",
   "name": "python3"
  },
  "language_info": {
   "codemirror_mode": {
    "name": "ipython",
    "version": 3
   },
   "file_extension": ".py",
   "mimetype": "text/x-python",
   "name": "python",
   "nbconvert_exporter": "python",
   "pygments_lexer": "ipython3",
   "version": "3.7.3"
  },
  "toc": {
   "base_numbering": 1,
   "nav_menu": {},
   "number_sections": true,
   "sideBar": true,
   "skip_h1_title": false,
   "title_cell": "Table of Contents",
   "title_sidebar": "Contents",
   "toc_cell": false,
   "toc_position": {},
   "toc_section_display": true,
   "toc_window_display": false
  }
 },
 "nbformat": 4,
 "nbformat_minor": 2
}
